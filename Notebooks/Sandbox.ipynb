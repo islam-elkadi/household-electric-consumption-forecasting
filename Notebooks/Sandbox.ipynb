{
 "cells": [
  {
   "cell_type": "markdown",
   "metadata": {},
   "source": [
    "# Imports"
   ]
  },
  {
   "cell_type": "code",
   "execution_count": null,
   "metadata": {},
   "outputs": [],
   "source": [
    "import math\n",
    "import numpy as np\n",
    "import pandas as pd\n",
    "import seaborn as sns\n",
    "import matplotlib.pyplot as plt\n",
    "\n",
    "from pprint import pprint\n",
    "from os.path import exists\n",
    "from fbprophet import Prophet\n",
    "from datetime import datetime\n",
    "from sklearn import preprocessing\n",
    "from wwo_hist import retrieve_hist_data"
   ]
  },
  {
   "cell_type": "markdown",
   "metadata": {},
   "source": [
    "# Utilities functions"
   ]
  },
  {
   "cell_type": "markdown",
   "metadata": {},
   "source": [
    "**Picture size**"
   ]
  },
  {
   "cell_type": "code",
   "execution_count": 2,
   "metadata": {},
   "outputs": [],
   "source": [
    "rb_scaler = preprocessing.RobustScaler()"
   ]
  },
  {
   "cell_type": "code",
   "execution_count": 3,
   "metadata": {},
   "outputs": [],
   "source": [
    "plt.rcParams[\"figure.figsize\"] = [10, 7]"
   ]
  },
  {
   "cell_type": "markdown",
   "metadata": {},
   "source": [
    "**Functions**"
   ]
  },
  {
   "cell_type": "code",
   "execution_count": 4,
   "metadata": {},
   "outputs": [],
   "source": [
    "def power_factor(active_power, voltage, current):\n",
    "    return active_power*1000/(voltage*current)"
   ]
  },
  {
   "cell_type": "code",
   "execution_count": 5,
   "metadata": {},
   "outputs": [],
   "source": [
    "def active_energy(global_active_power, sub_metering_1, sub_metering_2, sub_metering_3):\n",
    "    active_energy = (global_active_power*1000/60) - sub_metering_1 - sub_metering_2 - sub_metering_3\n",
    "    return active_energy"
   ]
  },
  {
   "cell_type": "code",
   "execution_count": 6,
   "metadata": {},
   "outputs": [],
   "source": [
    "def infer_season(datetime_object):\n",
    "    \n",
    "    datetime_object = str(datetime_object).split()[0]\n",
    "    datetime_object = int(datetime_object.split(\"-\")[1])\n",
    "    \n",
    "    if 1 <= datetime_object <= 2:\n",
    "        return \"winter\"\n",
    "    if 3 <= datetime_object <= 5:\n",
    "        return \"spring\"\n",
    "    if 6 <= datetime_object <= 8:\n",
    "        return \"summer\"\n",
    "    if 9 <= datetime_object <= 12:\n",
    "        return \"autumn\""
   ]
  },
  {
   "cell_type": "code",
   "execution_count": 7,
   "metadata": {},
   "outputs": [],
   "source": [
    "def robust_scale(df):\n",
    "    scaled_dataset = df.to_numpy()\n",
    "    scaled_dataset = rb_scaler.fit_transform(scaled_dataset)\n",
    "    scaled_dataset = pd.DataFrame(columns = df.columns.tolist(), data = scaled_dataset)\n",
    "    return df"
   ]
  },
  {
   "cell_type": "code",
   "execution_count": 8,
   "metadata": {},
   "outputs": [],
   "source": [
    "def sub_plot_resampling(dataset, name, period, title, rotation = None, kind = None, color = \"blue\"):\n",
    "    resample_df = dataset[name].resample(period).agg(['sum', 'mean', 'std'])\n",
    "    if kind:\n",
    "        resample_df.plot(subplots = True, title = title, color = color, kind = kind)\n",
    "    else:\n",
    "        resample_df.plot(subplots = True, title = title, color = color)\n",
    "    if rotation:\n",
    "        plt.xticks(rotation=rotation)\n",
    "    plt.show()"
   ]
  },
  {
   "cell_type": "code",
   "execution_count": 9,
   "metadata": {},
   "outputs": [],
   "source": [
    "def round_time_hour(dataset, index):\n",
    "    dataset[\"time\"] = index\n",
    "    dataset[\"timestamps\"] = index\n",
    "    dataset = dataset.set_index(\"timestamps\", inplace = False)\n",
    "    timelist = [x.to_pydatetime() for x in dataset[\"time\"].tolist()]\n",
    "    timelist = [dt.replace(minute=0, second=0, microsecond=0) for dt in timelist]\n",
    "    dataset[\"time\"] = timelist\n",
    "    return dataset"
   ]
  },
  {
   "cell_type": "markdown",
   "metadata": {},
   "source": [
    "# Load Data"
   ]
  },
  {
   "cell_type": "code",
   "execution_count": 10,
   "metadata": {},
   "outputs": [],
   "source": [
    "dataset = pd.read_csv(\"household_electric_consumption.csv\", \n",
    "                      sep = \",\",\n",
    "                      parse_dates={'timestamps' : ['Date', 'Time']},\n",
    "                      infer_datetime_format = True,\n",
    "                      na_values = [\"nan\", \"?\"],\n",
    "                      low_memory = False,\n",
    "                      index_col = \"timestamps\")"
   ]
  },
  {
   "cell_type": "code",
   "execution_count": 11,
   "metadata": {},
   "outputs": [],
   "source": [
    "dataset = dataset.drop([\"Unnamed: 0\"], axis = 1)"
   ]
  },
  {
   "cell_type": "markdown",
   "metadata": {},
   "source": [
    "# Data Discovery"
   ]
  },
  {
   "cell_type": "code",
   "execution_count": 12,
   "metadata": {},
   "outputs": [
    {
     "data": {
      "text/html": [
       "<div>\n",
       "<style scoped>\n",
       "    .dataframe tbody tr th:only-of-type {\n",
       "        vertical-align: middle;\n",
       "    }\n",
       "\n",
       "    .dataframe tbody tr th {\n",
       "        vertical-align: top;\n",
       "    }\n",
       "\n",
       "    .dataframe thead th {\n",
       "        text-align: right;\n",
       "    }\n",
       "</style>\n",
       "<table border=\"1\" class=\"dataframe\">\n",
       "  <thead>\n",
       "    <tr style=\"text-align: right;\">\n",
       "      <th></th>\n",
       "      <th>Global_active_power</th>\n",
       "      <th>Global_reactive_power</th>\n",
       "      <th>Voltage</th>\n",
       "      <th>Global_intensity</th>\n",
       "      <th>Sub_metering_1</th>\n",
       "      <th>Sub_metering_2</th>\n",
       "      <th>Sub_metering_3</th>\n",
       "    </tr>\n",
       "    <tr>\n",
       "      <th>timestamps</th>\n",
       "      <th></th>\n",
       "      <th></th>\n",
       "      <th></th>\n",
       "      <th></th>\n",
       "      <th></th>\n",
       "      <th></th>\n",
       "      <th></th>\n",
       "    </tr>\n",
       "  </thead>\n",
       "  <tbody>\n",
       "    <tr>\n",
       "      <th>2006-12-16 17:24:00</th>\n",
       "      <td>4.216</td>\n",
       "      <td>0.418</td>\n",
       "      <td>234.84</td>\n",
       "      <td>18.4</td>\n",
       "      <td>0.0</td>\n",
       "      <td>1.0</td>\n",
       "      <td>17.0</td>\n",
       "    </tr>\n",
       "    <tr>\n",
       "      <th>2006-12-16 17:25:00</th>\n",
       "      <td>5.360</td>\n",
       "      <td>0.436</td>\n",
       "      <td>233.63</td>\n",
       "      <td>23.0</td>\n",
       "      <td>0.0</td>\n",
       "      <td>1.0</td>\n",
       "      <td>16.0</td>\n",
       "    </tr>\n",
       "    <tr>\n",
       "      <th>2006-12-16 17:26:00</th>\n",
       "      <td>5.374</td>\n",
       "      <td>0.498</td>\n",
       "      <td>233.29</td>\n",
       "      <td>23.0</td>\n",
       "      <td>0.0</td>\n",
       "      <td>2.0</td>\n",
       "      <td>17.0</td>\n",
       "    </tr>\n",
       "    <tr>\n",
       "      <th>2006-12-16 17:27:00</th>\n",
       "      <td>5.388</td>\n",
       "      <td>0.502</td>\n",
       "      <td>233.74</td>\n",
       "      <td>23.0</td>\n",
       "      <td>0.0</td>\n",
       "      <td>1.0</td>\n",
       "      <td>17.0</td>\n",
       "    </tr>\n",
       "    <tr>\n",
       "      <th>2006-12-16 17:28:00</th>\n",
       "      <td>3.666</td>\n",
       "      <td>0.528</td>\n",
       "      <td>235.68</td>\n",
       "      <td>15.8</td>\n",
       "      <td>0.0</td>\n",
       "      <td>1.0</td>\n",
       "      <td>17.0</td>\n",
       "    </tr>\n",
       "  </tbody>\n",
       "</table>\n",
       "</div>"
      ],
      "text/plain": [
       "                     Global_active_power  Global_reactive_power  Voltage  \\\n",
       "timestamps                                                                 \n",
       "2006-12-16 17:24:00                4.216                  0.418   234.84   \n",
       "2006-12-16 17:25:00                5.360                  0.436   233.63   \n",
       "2006-12-16 17:26:00                5.374                  0.498   233.29   \n",
       "2006-12-16 17:27:00                5.388                  0.502   233.74   \n",
       "2006-12-16 17:28:00                3.666                  0.528   235.68   \n",
       "\n",
       "                     Global_intensity  Sub_metering_1  Sub_metering_2  \\\n",
       "timestamps                                                              \n",
       "2006-12-16 17:24:00              18.4             0.0             1.0   \n",
       "2006-12-16 17:25:00              23.0             0.0             1.0   \n",
       "2006-12-16 17:26:00              23.0             0.0             2.0   \n",
       "2006-12-16 17:27:00              23.0             0.0             1.0   \n",
       "2006-12-16 17:28:00              15.8             0.0             1.0   \n",
       "\n",
       "                     Sub_metering_3  \n",
       "timestamps                           \n",
       "2006-12-16 17:24:00            17.0  \n",
       "2006-12-16 17:25:00            16.0  \n",
       "2006-12-16 17:26:00            17.0  \n",
       "2006-12-16 17:27:00            17.0  \n",
       "2006-12-16 17:28:00            17.0  "
      ]
     },
     "execution_count": 12,
     "metadata": {},
     "output_type": "execute_result"
    }
   ],
   "source": [
    "dataset.head()"
   ]
  },
  {
   "cell_type": "code",
   "execution_count": 13,
   "metadata": {},
   "outputs": [
    {
     "name": "stdout",
     "output_type": "stream",
     "text": [
      "<class 'pandas.core.frame.DataFrame'>\n",
      "DatetimeIndex: 2075259 entries, 2006-12-16 17:24:00 to 2010-11-26 21:02:00\n",
      "Data columns (total 7 columns):\n",
      "Global_active_power      float64\n",
      "Global_reactive_power    float64\n",
      "Voltage                  float64\n",
      "Global_intensity         float64\n",
      "Sub_metering_1           float64\n",
      "Sub_metering_2           float64\n",
      "Sub_metering_3           float64\n",
      "dtypes: float64(7)\n",
      "memory usage: 126.7 MB\n"
     ]
    }
   ],
   "source": [
    "dataset.info()"
   ]
  },
  {
   "cell_type": "code",
   "execution_count": 14,
   "metadata": {},
   "outputs": [
    {
     "data": {
      "text/html": [
       "<div>\n",
       "<style scoped>\n",
       "    .dataframe tbody tr th:only-of-type {\n",
       "        vertical-align: middle;\n",
       "    }\n",
       "\n",
       "    .dataframe tbody tr th {\n",
       "        vertical-align: top;\n",
       "    }\n",
       "\n",
       "    .dataframe thead th {\n",
       "        text-align: right;\n",
       "    }\n",
       "</style>\n",
       "<table border=\"1\" class=\"dataframe\">\n",
       "  <thead>\n",
       "    <tr style=\"text-align: right;\">\n",
       "      <th></th>\n",
       "      <th>Global_active_power</th>\n",
       "      <th>Global_reactive_power</th>\n",
       "      <th>Voltage</th>\n",
       "      <th>Global_intensity</th>\n",
       "      <th>Sub_metering_1</th>\n",
       "      <th>Sub_metering_2</th>\n",
       "      <th>Sub_metering_3</th>\n",
       "    </tr>\n",
       "  </thead>\n",
       "  <tbody>\n",
       "    <tr>\n",
       "      <th>count</th>\n",
       "      <td>2.049280e+06</td>\n",
       "      <td>2.049280e+06</td>\n",
       "      <td>2.049280e+06</td>\n",
       "      <td>2.049280e+06</td>\n",
       "      <td>2.049280e+06</td>\n",
       "      <td>2.049280e+06</td>\n",
       "      <td>2.049280e+06</td>\n",
       "    </tr>\n",
       "    <tr>\n",
       "      <th>mean</th>\n",
       "      <td>1.091615e+00</td>\n",
       "      <td>1.237145e-01</td>\n",
       "      <td>2.408399e+02</td>\n",
       "      <td>4.627759e+00</td>\n",
       "      <td>1.121923e+00</td>\n",
       "      <td>1.298520e+00</td>\n",
       "      <td>6.458447e+00</td>\n",
       "    </tr>\n",
       "    <tr>\n",
       "      <th>std</th>\n",
       "      <td>1.057294e+00</td>\n",
       "      <td>1.127220e-01</td>\n",
       "      <td>3.239987e+00</td>\n",
       "      <td>4.444396e+00</td>\n",
       "      <td>6.153031e+00</td>\n",
       "      <td>5.822026e+00</td>\n",
       "      <td>8.437154e+00</td>\n",
       "    </tr>\n",
       "    <tr>\n",
       "      <th>min</th>\n",
       "      <td>7.600000e-02</td>\n",
       "      <td>0.000000e+00</td>\n",
       "      <td>2.232000e+02</td>\n",
       "      <td>2.000000e-01</td>\n",
       "      <td>0.000000e+00</td>\n",
       "      <td>0.000000e+00</td>\n",
       "      <td>0.000000e+00</td>\n",
       "    </tr>\n",
       "    <tr>\n",
       "      <th>25%</th>\n",
       "      <td>3.080000e-01</td>\n",
       "      <td>4.800000e-02</td>\n",
       "      <td>2.389900e+02</td>\n",
       "      <td>1.400000e+00</td>\n",
       "      <td>0.000000e+00</td>\n",
       "      <td>0.000000e+00</td>\n",
       "      <td>0.000000e+00</td>\n",
       "    </tr>\n",
       "    <tr>\n",
       "      <th>50%</th>\n",
       "      <td>6.020000e-01</td>\n",
       "      <td>1.000000e-01</td>\n",
       "      <td>2.410100e+02</td>\n",
       "      <td>2.600000e+00</td>\n",
       "      <td>0.000000e+00</td>\n",
       "      <td>0.000000e+00</td>\n",
       "      <td>1.000000e+00</td>\n",
       "    </tr>\n",
       "    <tr>\n",
       "      <th>75%</th>\n",
       "      <td>1.528000e+00</td>\n",
       "      <td>1.940000e-01</td>\n",
       "      <td>2.428900e+02</td>\n",
       "      <td>6.400000e+00</td>\n",
       "      <td>0.000000e+00</td>\n",
       "      <td>1.000000e+00</td>\n",
       "      <td>1.700000e+01</td>\n",
       "    </tr>\n",
       "    <tr>\n",
       "      <th>max</th>\n",
       "      <td>1.112200e+01</td>\n",
       "      <td>1.390000e+00</td>\n",
       "      <td>2.541500e+02</td>\n",
       "      <td>4.840000e+01</td>\n",
       "      <td>8.800000e+01</td>\n",
       "      <td>8.000000e+01</td>\n",
       "      <td>3.100000e+01</td>\n",
       "    </tr>\n",
       "  </tbody>\n",
       "</table>\n",
       "</div>"
      ],
      "text/plain": [
       "       Global_active_power  Global_reactive_power       Voltage  \\\n",
       "count         2.049280e+06           2.049280e+06  2.049280e+06   \n",
       "mean          1.091615e+00           1.237145e-01  2.408399e+02   \n",
       "std           1.057294e+00           1.127220e-01  3.239987e+00   \n",
       "min           7.600000e-02           0.000000e+00  2.232000e+02   \n",
       "25%           3.080000e-01           4.800000e-02  2.389900e+02   \n",
       "50%           6.020000e-01           1.000000e-01  2.410100e+02   \n",
       "75%           1.528000e+00           1.940000e-01  2.428900e+02   \n",
       "max           1.112200e+01           1.390000e+00  2.541500e+02   \n",
       "\n",
       "       Global_intensity  Sub_metering_1  Sub_metering_2  Sub_metering_3  \n",
       "count      2.049280e+06    2.049280e+06    2.049280e+06    2.049280e+06  \n",
       "mean       4.627759e+00    1.121923e+00    1.298520e+00    6.458447e+00  \n",
       "std        4.444396e+00    6.153031e+00    5.822026e+00    8.437154e+00  \n",
       "min        2.000000e-01    0.000000e+00    0.000000e+00    0.000000e+00  \n",
       "25%        1.400000e+00    0.000000e+00    0.000000e+00    0.000000e+00  \n",
       "50%        2.600000e+00    0.000000e+00    0.000000e+00    1.000000e+00  \n",
       "75%        6.400000e+00    0.000000e+00    1.000000e+00    1.700000e+01  \n",
       "max        4.840000e+01    8.800000e+01    8.000000e+01    3.100000e+01  "
      ]
     },
     "execution_count": 14,
     "metadata": {},
     "output_type": "execute_result"
    }
   ],
   "source": [
    "dataset.describe()"
   ]
  },
  {
   "cell_type": "markdown",
   "metadata": {},
   "source": [
    "As shown below, three out of seven features have huge ranges (large number of unique values). Therefore, the data will be standardized in preparation for NN training."
   ]
  },
  {
   "cell_type": "code",
   "execution_count": 15,
   "metadata": {},
   "outputs": [
    {
     "name": "stdout",
     "output_type": "stream",
     "text": [
      "Range of Global_active_power column: 0.076 --> 11.122\n",
      "Number of unique values in Global_active_power column: 30165\n",
      "\n",
      "\n",
      "Range of Global_reactive_power column: 0.0 --> 1.39\n",
      "Number of unique values in Global_reactive_power column: 26511\n",
      "\n",
      "\n",
      "Range of Voltage column: 223.2 --> 254.15\n",
      "Number of unique values in Voltage column: 28816\n",
      "\n",
      "\n",
      "Range of Global_intensity column: 0.2 --> 48.4\n",
      "Number of unique values in Global_intensity column: 26200\n",
      "\n",
      "\n",
      "Range of Sub_metering_1 column: 0.0 --> 88.0\n",
      "Number of unique values in Sub_metering_1 column: 26067\n",
      "\n",
      "\n",
      "Range of Sub_metering_2 column: 0.0 --> 80.0\n",
      "Number of unique values in Sub_metering_2 column: 26060\n",
      "\n",
      "\n",
      "Range of Sub_metering_3 column: 0.0 --> 31.0\n",
      "Number of unique values in Sub_metering_3 column: 26011\n",
      "\n",
      "\n"
     ]
    }
   ],
   "source": [
    "for name in dataset.columns.tolist():\n",
    "    print(\"Range of {} column: {} --> {}\".format(name, dataset[name].min(), dataset[name].max()))\n",
    "    print(\"Number of unique values in {} column: {}\".format(name, len(set(dataset[name].tolist()))))\n",
    "    print(\"\\n\")"
   ]
  },
  {
   "cell_type": "markdown",
   "metadata": {},
   "source": [
    "# Cleaning"
   ]
  },
  {
   "cell_type": "markdown",
   "metadata": {},
   "source": [
    "**Replace all Null values with mean of each column**"
   ]
  },
  {
   "cell_type": "code",
   "execution_count": 16,
   "metadata": {},
   "outputs": [],
   "source": [
    "dataset = dataset.fillna(dataset.mean())"
   ]
  },
  {
   "cell_type": "markdown",
   "metadata": {},
   "source": [
    "**Sanity Check**"
   ]
  },
  {
   "cell_type": "code",
   "execution_count": 17,
   "metadata": {},
   "outputs": [
    {
     "data": {
      "text/plain": [
       "Global_active_power      0\n",
       "Global_reactive_power    0\n",
       "Voltage                  0\n",
       "Global_intensity         0\n",
       "Sub_metering_1           0\n",
       "Sub_metering_2           0\n",
       "Sub_metering_3           0\n",
       "dtype: int64"
      ]
     },
     "execution_count": 17,
     "metadata": {},
     "output_type": "execute_result"
    }
   ],
   "source": [
    "dataset.isnull().sum()"
   ]
  },
  {
   "cell_type": "markdown",
   "metadata": {},
   "source": [
    "**Remove outliers: Robust Scaling**"
   ]
  },
  {
   "cell_type": "code",
   "execution_count": 18,
   "metadata": {},
   "outputs": [],
   "source": [
    "# Robust scaling full dataset\n",
    "robust_full = dataset.reset_index(drop = True)\n",
    "robust_full = robust_scale(robust_full)"
   ]
  },
  {
   "cell_type": "code",
   "execution_count": 19,
   "metadata": {},
   "outputs": [],
   "source": [
    "dataset = round_time_hour(robust_full, dataset.index)\n",
    "dataset[\"season\"] = dataset.time.apply(lambda x: infer_season(x))"
   ]
  },
  {
   "cell_type": "markdown",
   "metadata": {},
   "source": [
    "# Feature Engineering"
   ]
  },
  {
   "cell_type": "markdown",
   "metadata": {},
   "source": [
    "### Power Factor"
   ]
  },
  {
   "cell_type": "code",
   "execution_count": 20,
   "metadata": {},
   "outputs": [],
   "source": [
    "voltage = dataset[\"Voltage\"].tolist()\n",
    "global_active_power = dataset[\"Global_active_power\"].tolist()\n",
    "global_current_intensity = dataset[\"Global_intensity\"].tolist()\n",
    "zipped_list = list(zip(global_active_power, voltage, global_current_intensity))\n",
    "dataset[\"power_factor\"] = [power_factor(active, voltage, current) for active, voltage, current in zipped_list]"
   ]
  },
  {
   "cell_type": "markdown",
   "metadata": {},
   "source": [
    "### Active Energy"
   ]
  },
  {
   "cell_type": "code",
   "execution_count": 21,
   "metadata": {},
   "outputs": [],
   "source": [
    "sub_metering_1 = dataset[\"Sub_metering_1\"].tolist()\n",
    "sub_metering_2 = dataset[\"Sub_metering_2\"].tolist()\n",
    "sub_metering_3 = dataset[\"Sub_metering_3\"].tolist()\n",
    "active_energy_zipped_list = zip(global_active_power, sub_metering_1, sub_metering_2, sub_metering_3)\n",
    "dataset[\"active_energy\"] = [active_energy(global_active_power, sub_metering_1, sub_metering_2, sub_metering_3) for global_active_power, sub_metering_1, sub_metering_2, sub_metering_3 in active_energy_zipped_list]"
   ]
  },
  {
   "cell_type": "markdown",
   "metadata": {},
   "source": [
    "### Weather Data"
   ]
  },
  {
   "cell_type": "code",
   "execution_count": 22,
   "metadata": {},
   "outputs": [],
   "source": [
    "location = \"sceaux\"\n",
    "file_name = location+\".csv\"\n",
    "\n",
    "if exists(file_name):\n",
    "    hist_weather_data = pd.read_csv(file_name)\n",
    "else:\n",
    "    hist_weather_data = retrieve_hist_data(\"d21cdf5082614691a2b154348192407\", [file_name], '16-12-2008',\n",
    "                                           '26-11-2012', 1, location_label = False, export_csv = True, store_df = True)"
   ]
  },
  {
   "cell_type": "code",
   "execution_count": 23,
   "metadata": {},
   "outputs": [],
   "source": [
    "hist_weather_data = hist_weather_data.rename(columns={\"date_time\": \"time\"})"
   ]
  },
  {
   "cell_type": "code",
   "execution_count": 24,
   "metadata": {},
   "outputs": [],
   "source": [
    "hist_weather_data[\"time\"] = hist_weather_data[\"time\"].apply(lambda x: datetime.strptime(x, \"%Y-%m-%d %H:%M:%S\"))"
   ]
  },
  {
   "cell_type": "code",
   "execution_count": 25,
   "metadata": {},
   "outputs": [],
   "source": [
    "hist_weather_data = hist_weather_data[[\"time\", \"sunrise\", \"sunset\", \"tempC\", \"FeelsLikeC\"]]"
   ]
  },
  {
   "cell_type": "markdown",
   "metadata": {},
   "source": [
    "Since the weather data retrieved only goes back to July 1st 2008, the data needs to be offset by two years since the earliest date from the dataset goes back to 2006."
   ]
  },
  {
   "cell_type": "code",
   "execution_count": 26,
   "metadata": {},
   "outputs": [],
   "source": [
    "dataset[\"time\"] = dataset['time'].apply(lambda x: x + pd.DateOffset(years=2))"
   ]
  },
  {
   "cell_type": "code",
   "execution_count": 27,
   "metadata": {},
   "outputs": [],
   "source": [
    "weather_data_merged = hist_weather_data.merge(dataset, on='time', how='right').set_index(\"time\")"
   ]
  },
  {
   "cell_type": "code",
   "execution_count": 28,
   "metadata": {},
   "outputs": [
    {
     "data": {
      "text/plain": [
       "['sunrise',\n",
       " 'sunset',\n",
       " 'tempC',\n",
       " 'FeelsLikeC',\n",
       " 'Global_active_power',\n",
       " 'Global_reactive_power',\n",
       " 'Voltage',\n",
       " 'Global_intensity',\n",
       " 'Sub_metering_1',\n",
       " 'Sub_metering_2',\n",
       " 'Sub_metering_3',\n",
       " 'season',\n",
       " 'power_factor',\n",
       " 'active_energy']"
      ]
     },
     "execution_count": 28,
     "metadata": {},
     "output_type": "execute_result"
    }
   ],
   "source": [
    "weather_data_merged.columns.tolist()"
   ]
  },
  {
   "cell_type": "code",
   "execution_count": 29,
   "metadata": {},
   "outputs": [],
   "source": [
    "weather_data_merged = weather_data_merged[[\"Global_active_power\", \n",
    "                                            \"Global_reactive_power\", \n",
    "                                            \"Voltage\", \n",
    "                                            \"Global_intensity\", \n",
    "                                            \"power_factor\", \n",
    "                                            \"active_energy\",\n",
    "                                            \"Sub_metering_1\",\n",
    "                                            \"Sub_metering_2\",\n",
    "                                            \"Sub_metering_3\", \n",
    "                                            \"season\",\n",
    "                                            \"tempC\",\n",
    "                                            \"FeelsLikeC\",\n",
    "                                            \"sunrise\",\n",
    "                                            \"sunset\"]]"
   ]
  },
  {
   "cell_type": "code",
   "execution_count": 30,
   "metadata": {},
   "outputs": [],
   "source": [
    "dataset = weather_data_merged"
   ]
  },
  {
   "cell_type": "code",
   "execution_count": 31,
   "metadata": {},
   "outputs": [
    {
     "data": {
      "text/html": [
       "<div>\n",
       "<style scoped>\n",
       "    .dataframe tbody tr th:only-of-type {\n",
       "        vertical-align: middle;\n",
       "    }\n",
       "\n",
       "    .dataframe tbody tr th {\n",
       "        vertical-align: top;\n",
       "    }\n",
       "\n",
       "    .dataframe thead th {\n",
       "        text-align: right;\n",
       "    }\n",
       "</style>\n",
       "<table border=\"1\" class=\"dataframe\">\n",
       "  <thead>\n",
       "    <tr style=\"text-align: right;\">\n",
       "      <th></th>\n",
       "      <th>Global_active_power</th>\n",
       "      <th>Global_reactive_power</th>\n",
       "      <th>Voltage</th>\n",
       "      <th>Global_intensity</th>\n",
       "      <th>power_factor</th>\n",
       "      <th>active_energy</th>\n",
       "      <th>Sub_metering_1</th>\n",
       "      <th>Sub_metering_2</th>\n",
       "      <th>Sub_metering_3</th>\n",
       "      <th>season</th>\n",
       "      <th>tempC</th>\n",
       "      <th>FeelsLikeC</th>\n",
       "      <th>sunrise</th>\n",
       "      <th>sunset</th>\n",
       "    </tr>\n",
       "    <tr>\n",
       "      <th>time</th>\n",
       "      <th></th>\n",
       "      <th></th>\n",
       "      <th></th>\n",
       "      <th></th>\n",
       "      <th></th>\n",
       "      <th></th>\n",
       "      <th></th>\n",
       "      <th></th>\n",
       "      <th></th>\n",
       "      <th></th>\n",
       "      <th></th>\n",
       "      <th></th>\n",
       "      <th></th>\n",
       "      <th></th>\n",
       "    </tr>\n",
       "  </thead>\n",
       "  <tbody>\n",
       "    <tr>\n",
       "      <th>2008-12-16 17:00:00</th>\n",
       "      <td>4.216</td>\n",
       "      <td>0.418</td>\n",
       "      <td>234.84</td>\n",
       "      <td>18.4</td>\n",
       "      <td>0.975687</td>\n",
       "      <td>52.266667</td>\n",
       "      <td>0.0</td>\n",
       "      <td>1.0</td>\n",
       "      <td>17.0</td>\n",
       "      <td>autumn</td>\n",
       "      <td>-1</td>\n",
       "      <td>1</td>\n",
       "      <td>09:39 AM</td>\n",
       "      <td>05:55 PM</td>\n",
       "    </tr>\n",
       "    <tr>\n",
       "      <th>2008-12-16 17:00:00</th>\n",
       "      <td>5.360</td>\n",
       "      <td>0.436</td>\n",
       "      <td>233.63</td>\n",
       "      <td>23.0</td>\n",
       "      <td>0.997490</td>\n",
       "      <td>72.333333</td>\n",
       "      <td>0.0</td>\n",
       "      <td>1.0</td>\n",
       "      <td>16.0</td>\n",
       "      <td>autumn</td>\n",
       "      <td>-1</td>\n",
       "      <td>1</td>\n",
       "      <td>09:39 AM</td>\n",
       "      <td>05:55 PM</td>\n",
       "    </tr>\n",
       "    <tr>\n",
       "      <th>2008-12-16 17:00:00</th>\n",
       "      <td>5.374</td>\n",
       "      <td>0.498</td>\n",
       "      <td>233.29</td>\n",
       "      <td>23.0</td>\n",
       "      <td>1.001552</td>\n",
       "      <td>70.566667</td>\n",
       "      <td>0.0</td>\n",
       "      <td>2.0</td>\n",
       "      <td>17.0</td>\n",
       "      <td>autumn</td>\n",
       "      <td>-1</td>\n",
       "      <td>1</td>\n",
       "      <td>09:39 AM</td>\n",
       "      <td>05:55 PM</td>\n",
       "    </tr>\n",
       "    <tr>\n",
       "      <th>2008-12-16 17:00:00</th>\n",
       "      <td>5.388</td>\n",
       "      <td>0.502</td>\n",
       "      <td>233.74</td>\n",
       "      <td>23.0</td>\n",
       "      <td>1.002228</td>\n",
       "      <td>71.800000</td>\n",
       "      <td>0.0</td>\n",
       "      <td>1.0</td>\n",
       "      <td>17.0</td>\n",
       "      <td>autumn</td>\n",
       "      <td>-1</td>\n",
       "      <td>1</td>\n",
       "      <td>09:39 AM</td>\n",
       "      <td>05:55 PM</td>\n",
       "    </tr>\n",
       "    <tr>\n",
       "      <th>2008-12-16 17:00:00</th>\n",
       "      <td>3.666</td>\n",
       "      <td>0.528</td>\n",
       "      <td>235.68</td>\n",
       "      <td>15.8</td>\n",
       "      <td>0.984493</td>\n",
       "      <td>43.100000</td>\n",
       "      <td>0.0</td>\n",
       "      <td>1.0</td>\n",
       "      <td>17.0</td>\n",
       "      <td>autumn</td>\n",
       "      <td>-1</td>\n",
       "      <td>1</td>\n",
       "      <td>09:39 AM</td>\n",
       "      <td>05:55 PM</td>\n",
       "    </tr>\n",
       "  </tbody>\n",
       "</table>\n",
       "</div>"
      ],
      "text/plain": [
       "                     Global_active_power  Global_reactive_power  Voltage  \\\n",
       "time                                                                       \n",
       "2008-12-16 17:00:00                4.216                  0.418   234.84   \n",
       "2008-12-16 17:00:00                5.360                  0.436   233.63   \n",
       "2008-12-16 17:00:00                5.374                  0.498   233.29   \n",
       "2008-12-16 17:00:00                5.388                  0.502   233.74   \n",
       "2008-12-16 17:00:00                3.666                  0.528   235.68   \n",
       "\n",
       "                     Global_intensity  power_factor  active_energy  \\\n",
       "time                                                                 \n",
       "2008-12-16 17:00:00              18.4      0.975687      52.266667   \n",
       "2008-12-16 17:00:00              23.0      0.997490      72.333333   \n",
       "2008-12-16 17:00:00              23.0      1.001552      70.566667   \n",
       "2008-12-16 17:00:00              23.0      1.002228      71.800000   \n",
       "2008-12-16 17:00:00              15.8      0.984493      43.100000   \n",
       "\n",
       "                     Sub_metering_1  Sub_metering_2  Sub_metering_3  season  \\\n",
       "time                                                                          \n",
       "2008-12-16 17:00:00             0.0             1.0            17.0  autumn   \n",
       "2008-12-16 17:00:00             0.0             1.0            16.0  autumn   \n",
       "2008-12-16 17:00:00             0.0             2.0            17.0  autumn   \n",
       "2008-12-16 17:00:00             0.0             1.0            17.0  autumn   \n",
       "2008-12-16 17:00:00             0.0             1.0            17.0  autumn   \n",
       "\n",
       "                     tempC  FeelsLikeC   sunrise    sunset  \n",
       "time                                                        \n",
       "2008-12-16 17:00:00     -1           1  09:39 AM  05:55 PM  \n",
       "2008-12-16 17:00:00     -1           1  09:39 AM  05:55 PM  \n",
       "2008-12-16 17:00:00     -1           1  09:39 AM  05:55 PM  \n",
       "2008-12-16 17:00:00     -1           1  09:39 AM  05:55 PM  \n",
       "2008-12-16 17:00:00     -1           1  09:39 AM  05:55 PM  "
      ]
     },
     "execution_count": 31,
     "metadata": {},
     "output_type": "execute_result"
    }
   ],
   "source": [
    "dataset.head()"
   ]
  },
  {
   "cell_type": "markdown",
   "metadata": {},
   "source": [
    "# Data Visualization: Overall Exploration"
   ]
  },
  {
   "cell_type": "markdown",
   "metadata": {},
   "source": [
    "### Global Active Power"
   ]
  },
  {
   "cell_type": "code",
   "execution_count": null,
   "metadata": {},
   "outputs": [],
   "source": [
    "#Global Active power\n",
    "sub_plot_resampling(dataset, \"Global_active_power\", \"D\", \"Global_active_power daily resampling\")\n",
    "sub_plot_resampling(dataset, \"Global_active_power\", \"M\", \"Global_active_power monthly resampling\", 80, \"bar\")\n",
    "sub_plot_resampling(dataset, \"Global_active_power\", \"Q\", \"Global_active_power quarterly resampling\", 60, \"bar\")\n",
    "\n",
    "#Global Reactive Power\n",
    "sub_plot_resampling(dataset, \"Global_reactive_power\", \"D\", \"Global_reactive_power daily resampling\", color = \"red\")\n",
    "sub_plot_resampling(dataset, \"Global_reactive_power\", \"M\", \"Global_reactive_power monthly resampling\", 80, \"bar\", \"red\")\n",
    "sub_plot_resampling(dataset, \"Global_reactive_power\", \"Q\", \"Global_reactive_power quarterly resampling\", 60, \"bar\", color=\"red\")\n",
    "\n",
    "#Voltage\n",
    "sub_plot_resampling(dataset, \"Voltage\", \"D\", \"Voltage daily resampling\", color=\"green\")\n",
    "sub_plot_resampling(dataset, \"Voltage\", \"M\", \"Voltage monthly resampling\", 80, \"bar\", \"green\")\n",
    "sub_plot_resampling(dataset, \"Voltage\", \"Q\", \"Voltage quarterly resampling\", 60, \"bar\", \"green\")\n",
    "\n",
    "#Global Intensity\n",
    "sub_plot_resampling(dataset, \"Global_intensity\", \"D\", \"Global_intensity daily resampling\", color=\"purple\")\n",
    "sub_plot_resampling(dataset, \"Global_intensity\", \"M\", \"Global_intensity monthly resampling\", 80, \"bar\", \"purple\")\n",
    "sub_plot_resampling(dataset, \"Global_intensity\", \"Q\", \"Global_intensity quarterly resampling\", 60, \"bar\", \"purple\")\n",
    "\n",
    "#Submetering 1\n",
    "sub_plot_resampling(dataset, \"Sub_metering_1\", \"D\", \"Sub_metering_1 daily resampling\", color=\"brown\")\n",
    "sub_plot_resampling(dataset, \"Sub_metering_1\", \"M\", \"Sub_metering_1 monthly resampling\", 80, \"bar\", \"brown\")\n",
    "sub_plot_resampling(dataset, \"Sub_metering_1\", \"Q\", \"Sub_metering_1 quarterly resampling\", 60, \"bar\", \"brown\")\n",
    "\n",
    "#Submetering 2\n",
    "sub_plot_resampling(dataset, \"Sub_metering_2\", \"D\", \"Sub_metering_2 daily resampling\", color=\"orange\")\n",
    "sub_plot_resampling(dataset, \"Sub_metering_2\", \"M\", \"Sub_metering_2 monthly resampling\", 80, \"bar\", \"orange\")\n",
    "sub_plot_resampling(dataset, \"Sub_metering_2\", \"Q\", \"Sub_metering_2 quarterly resampling\", 60, \"bar\", \"orange\")\n",
    "\n",
    "#Submetering 3\n",
    "sub_plot_resampling(dataset, \"Sub_metering_3\", \"D\", \"Sub_metering_3 daily resampling\", color=\"cyan\")\n",
    "sub_plot_resampling(dataset, \"Sub_metering_3\", \"M\", \"Sub_metering_3 monthly resampling\", 80, \"bar\", \"cyan\")\n",
    "sub_plot_resampling(dataset, \"Sub_metering_3\", \"Q\", \"Sub_metering_3 quarterly resampling\", 60, \"bar\", \"cyan\")\n",
    "\n",
    "#Power Factor\n",
    "sub_plot_resampling(dataset, \"power_factor\", \"D\", \"power_factor daily resampling\", color=\"black\")\n",
    "sub_plot_resampling(dataset, \"power_factor\", \"M\", \"power_factor monthly resampling\", 80, \"bar\", \"black\")\n",
    "sub_plot_resampling(dataset, \"power_factor\", \"Q\", \"power_factor quarterly resampling\", 60, \"bar\", \"black\")\n",
    "\n",
    "#Active Energy\n",
    "sub_plot_resampling(dataset, \"active_energy\", \"D\", \"active_energy daily resampling\", color=\"pink\")\n",
    "sub_plot_resampling(dataset, \"active_energy\", \"M\", \"active_energy monthly resampling\", 80, \"bar\", \"pink\")\n",
    "sub_plot_resampling(dataset, \"active_energy\", \"Q\", \"active_energy quarterly resampling\", 60, \"bar\", \"pink\")"
   ]
  },
  {
   "cell_type": "markdown",
   "metadata": {},
   "source": [
    "### Visual Comparison"
   ]
  },
  {
   "cell_type": "markdown",
   "metadata": {},
   "source": [
    "**Mean**"
   ]
  },
  {
   "cell_type": "code",
   "execution_count": null,
   "metadata": {},
   "outputs": [],
   "source": [
    "#Daily\n",
    "i = 1\n",
    "cols = [0, 1, 2, 3, 5, 6]\n",
    "groups = cols\n",
    "values = dataset.resample('D').mean().values\n",
    "# plot each column\n",
    "plt.figure(figsize=(17, 15))\n",
    "for group in groups:\n",
    "\tplt.subplot(len(cols), 1, i)\n",
    "\tplt.plot(values[:, group])\n",
    "\tplt.title(dataset.columns[group], y=0.75, loc='right')\n",
    "\ti += 1\n",
    "plt.show()\n",
    "\n",
    "#Weekly\n",
    "dataset.Global_active_power.resample('W').mean().plot(color='black', legend=True)\n",
    "dataset.Global_reactive_power.resample('W').mean().plot(color='firebrick', legend=True)\n",
    "dataset.Voltage.resample('W').mean().plot(color='sienna', legend=True)\n",
    "dataset.Global_intensity.resample('W').mean().plot(color='seagreen', legend=True)\n",
    "dataset.Sub_metering_1.resample('W').mean().plot(color='darkcyan', legend=True)\n",
    "dataset.Sub_metering_2.resample('W').mean().plot(color='royalblue', legend=True)\n",
    "dataset.Sub_metering_3.resample('W').mean().plot(color='darkorchid', legend=True)\n",
    "dataset.power_factor.resample('W').mean().plot(color='crimson', legend=True)\n",
    "dataset.active_energy.resample('W').mean().plot(color='pink', legend=True)\n",
    "plt.show()\n",
    "\n",
    "#Monthly\n",
    "dataset.Global_active_power.resample('M').mean().plot(kind='hist', color='black', legend=True )\n",
    "dataset.Global_reactive_power.resample('M').mean().plot(kind='hist',color='firebrick', legend=True)\n",
    "dataset.Voltage.resample('M').mean().plot(kind='hist',color='sienna', legend=True)\n",
    "dataset.Global_intensity.resample('M').mean().plot(kind='hist', color='seagreen', legend=True)\n",
    "dataset.Sub_metering_1.resample('M').mean().plot(kind='hist', color='darkcyan', legend=True)\n",
    "dataset.Sub_metering_2.resample('M').mean().plot(kind='hist', color='royalblue', legend=True)\n",
    "dataset.Sub_metering_3.resample('M').mean().plot(kind='hist', color='darkorchid', legend=True)\n",
    "dataset.power_factor.resample('M').mean().plot(kind='hist', color='crimson', legend=True)\n",
    "dataset.active_energy.resample('M').mean().plot(kind='hist', color='pink', legend=True)\n",
    "plt.show()"
   ]
  },
  {
   "cell_type": "markdown",
   "metadata": {},
   "source": [
    "**Sum**"
   ]
  },
  {
   "cell_type": "code",
   "execution_count": null,
   "metadata": {},
   "outputs": [],
   "source": [
    "#Daily\n",
    "i = 1\n",
    "cols = [0, 1, 2, 3, 5, 6]\n",
    "groups = cols\n",
    "values = dataset.resample('D').sum().values\n",
    "# plot each column\n",
    "plt.figure(figsize=(17, 15))\n",
    "for group in groups:\n",
    "\tplt.subplot(len(cols), 1, i)\n",
    "\tplt.plot(values[:, group])\n",
    "\tplt.title(dataset.columns[group], y=0.75, loc='right')\n",
    "\ti += 1\n",
    "plt.show()\n",
    "\n",
    "#Weekly\n",
    "dataset.Global_active_power.resample('W').sum().plot(color='black', legend=True)\n",
    "dataset.Global_reactive_power.resample('W').sum().plot(color='firebrick', legend=True)\n",
    "dataset.Voltage.resample('W').sum().plot(color='sienna', legend=True)\n",
    "dataset.Global_intensity.resample('W').sum().plot(color='seagreen', legend=True)\n",
    "dataset.Sub_metering_1.resample('W').sum().plot(color='darkcyan', legend=True)\n",
    "dataset.Sub_metering_2.resample('W').sum().plot(color='royalblue', legend=True)\n",
    "dataset.Sub_metering_3.resample('W').sum().plot(color='darkorchid', legend=True)\n",
    "dataset.power_factor.resample('W').sum().plot(color='crimson', legend=True)\n",
    "dataset.active_energy.resample('W').sum().plot(color='pink', legend=True)\n",
    "plt.show()\n",
    "\n",
    "#Monthly\n",
    "dataset.Global_active_power.resample('M').sum().plot(kind='hist', color='black', legend=True )\n",
    "dataset.Global_reactive_power.resample('M').sum().plot(kind='hist',color='firebrick', legend=True)\n",
    "dataset.Voltage.resample('M').sum().plot(kind='hist',color='sienna', legend=True)\n",
    "dataset.Global_intensity.resample('M').sum().plot(kind='hist', color='seagreen', legend=True)\n",
    "dataset.Sub_metering_1.resample('M').sum().plot(kind='hist', color='darkcyan', legend=True)\n",
    "dataset.Sub_metering_2.resample('M').sum().plot(kind='hist', color='royalblue', legend=True)\n",
    "dataset.Sub_metering_3.resample('M').sum().plot(kind='hist', color='darkorchid', legend=True)\n",
    "dataset.power_factor.resample('M').sum().plot(kind='hist', color='crimson', legend=True)\n",
    "dataset.active_energy.resample('M').sum().plot(kind='hist', color='pink', legend=True)\n",
    "plt.show()"
   ]
  },
  {
   "cell_type": "markdown",
   "metadata": {},
   "source": [
    "**Std**"
   ]
  },
  {
   "cell_type": "code",
   "execution_count": null,
   "metadata": {},
   "outputs": [],
   "source": [
    "#Daily\n",
    "i = 1\n",
    "cols = [0, 1, 2, 3, 5, 6]\n",
    "groups = cols\n",
    "values = dataset.resample('D').std().values\n",
    "# plot each column\n",
    "plt.figure(figsize=(17, 15))\n",
    "for group in groups:\n",
    "\tplt.subplot(len(cols), 1, i)\n",
    "\tplt.plot(values[:, group])\n",
    "\tplt.title(dataset.columns[group], y=0.75, loc='right')\n",
    "\ti += 1\n",
    "plt.show()\n",
    "\n",
    "#Weekly\n",
    "dataset.Global_active_power.resample('W').std().plot(color='black', legend=True)\n",
    "dataset.Global_reactive_power.resample('W').std().plot(color='firebrick', legend=True)\n",
    "dataset.Voltage.resample('W').std().plot(color='sienna', legend=True)\n",
    "dataset.Global_intensity.resample('W').std().plot(color='seagreen', legend=True)\n",
    "dataset.Sub_metering_1.resample('W').std().plot(color='darkcyan', legend=True)\n",
    "dataset.Sub_metering_2.resample('W').std().plot(color='royalblue', legend=True)\n",
    "dataset.Sub_metering_3.resample('W').std().plot(color='darkorchid', legend=True)\n",
    "dataset.power_factor.resample('W').std().plot(color='crimson', legend=True)\n",
    "dataset.active_energy.resample('W').std().plot(color='pink', legend=True)\n",
    "plt.show()\n",
    "\n",
    "#Monthly\n",
    "dataset.Global_active_power.resample('M').std().plot(kind='hist', color='black', legend=True )\n",
    "dataset.Global_reactive_power.resample('M').std().plot(kind='hist',color='firebrick', legend=True)\n",
    "dataset.Voltage.resample('M').std().plot(kind='hist',color='sienna', legend=True)\n",
    "dataset.Global_intensity.resample('M').std().plot(kind='hist', color='seagreen', legend=True)\n",
    "dataset.Sub_metering_1.resample('M').std().plot(kind='hist', color='darkcyan', legend=True)\n",
    "dataset.Sub_metering_2.resample('M').std().plot(kind='hist', color='royalblue', legend=True)\n",
    "dataset.Sub_metering_3.resample('M').std().plot(kind='hist', color='darkorchid', legend=True)\n",
    "dataset.power_factor.resample('M').std().plot(kind='hist', color='crimson', legend=True)\n",
    "dataset.active_energy.resample('M').std().plot(kind='hist', color='pink', legend=True)\n",
    "plt.show()"
   ]
  },
  {
   "cell_type": "markdown",
   "metadata": {},
   "source": [
    "**Correlation Map**"
   ]
  },
  {
   "cell_type": "code",
   "execution_count": null,
   "metadata": {},
   "outputs": [],
   "source": [
    "dataset.corr().style.background_gradient(cmap = \"PRGn\")"
   ]
  },
  {
   "cell_type": "code",
   "execution_count": null,
   "metadata": {},
   "outputs": [],
   "source": [
    "dataset.resample(\"D\").mean().corr().style.background_gradient(cmap = \"PRGn\")"
   ]
  },
  {
   "cell_type": "code",
   "execution_count": null,
   "metadata": {},
   "outputs": [],
   "source": [
    "dataset.resample(\"M\").mean().corr().style.background_gradient(cmap = \"PRGn\")"
   ]
  },
  {
   "cell_type": "code",
   "execution_count": null,
   "metadata": {},
   "outputs": [],
   "source": [
    "dataset.resample(\"Q\").mean().corr().style.background_gradient(cmap = \"PRGn\")"
   ]
  },
  {
   "cell_type": "markdown",
   "metadata": {},
   "source": [
    "# Data Visualization: Seasonal Exploration"
   ]
  },
  {
   "cell_type": "markdown",
   "metadata": {},
   "source": [
    "### Winter"
   ]
  },
  {
   "cell_type": "code",
   "execution_count": null,
   "metadata": {},
   "outputs": [],
   "source": [
    "winter_dataset = dataset.loc[dataset['season']==\"winter\"]"
   ]
  },
  {
   "cell_type": "code",
   "execution_count": null,
   "metadata": {},
   "outputs": [],
   "source": [
    "#Global Active power\n",
    "sub_plot_resampling(winter_dataset, \"Global_active_power\", \"D\", \"Winter Global_active_power daily resampling\")\n",
    "sub_plot_resampling(winter_dataset, \"Global_active_power\", \"W\", \"Winter Global_active_power monthly resampling\", 80, \"bar\")\n",
    "sub_plot_resampling(winter_dataset, \"Global_active_power\", \"Q\", \"Winter Global_active_power quarterly resampling\", 60, \"bar\")\n",
    "\n",
    "#Global Reactive Power\n",
    "sub_plot_resampling(winter_dataset, \"Global_reactive_power\", \"D\", \"Winter Global_reactive_power daily resampling\", color = \"red\")\n",
    "sub_plot_resampling(winter_dataset, \"Global_reactive_power\", \"W\", \"Winter Global_reactive_power monthly resampling\", 80, \"bar\", \"red\")\n",
    "sub_plot_resampling(winter_dataset, \"Global_reactive_power\", \"Q\", \"Winter Global_reactive_power quarterly resampling\", 60, \"bar\", color=\"red\")\n",
    "\n",
    "#Voltage\n",
    "sub_plot_resampling(winter_dataset, \"Voltage\", \"D\", \"Winter Voltage daily resampling\", color=\"green\")\n",
    "sub_plot_resampling(winter_dataset, \"Voltage\", \"W\", \"Winter Voltage monthly resampling\", 80, \"bar\", \"green\")\n",
    "sub_plot_resampling(winter_dataset, \"Voltage\", \"Q\", \"Winter Voltage quarterly resampling\", 60, \"bar\", \"green\")\n",
    "\n",
    "#Global Intensity\n",
    "sub_plot_resampling(winter_dataset, \"Global_intensity\", \"D\", \"Winter Global_intensity daily resampling\", color=\"purple\")\n",
    "sub_plot_resampling(winter_dataset, \"Global_intensity\", \"W\", \"Winter Global_intensity monthly resampling\", 80, \"bar\", \"purple\")\n",
    "sub_plot_resampling(winter_dataset, \"Global_intensity\", \"Q\", \"Winter Global_intensity quarterly resampling\", 60, \"bar\", \"purple\")\n",
    "\n",
    "#Submetering 1\n",
    "sub_plot_resampling(winter_dataset, \"Sub_metering_1\", \"D\", \"Winter Sub_metering_1 daily resampling\", color=\"brown\")\n",
    "sub_plot_resampling(winter_dataset, \"Sub_metering_1\", \"W\", \"Winter Sub_metering_1 monthly resampling\", 80, \"bar\", \"brown\")\n",
    "sub_plot_resampling(winter_dataset, \"Sub_metering_1\", \"Q\", \"Winter Sub_metering_1 quarterly resampling\", 60, \"bar\", \"brown\")\n",
    "\n",
    "#Submetering 2\n",
    "sub_plot_resampling(winter_dataset, \"Sub_metering_2\", \"D\", \"Winter Sub_metering_2 daily resampling\", color=\"orange\")\n",
    "sub_plot_resampling(winter_dataset, \"Sub_metering_2\", \"W\", \"Winter Sub_metering_2 monthly resampling\", 80, \"bar\", \"orange\")\n",
    "sub_plot_resampling(winter_dataset, \"Sub_metering_2\", \"Q\", \"Winter Sub_metering_2 quarterly resampling\", 60, \"bar\", \"orange\")\n",
    "\n",
    "#Submetering 3\n",
    "sub_plot_resampling(winter_dataset, \"Sub_metering_3\", \"D\", \"Winter Sub_metering_3 daily resampling\", color=\"cyan\")\n",
    "sub_plot_resampling(winter_dataset, \"Sub_metering_3\", \"W\", \"Winter Sub_metering_3 monthly resampling\", 80, \"bar\", \"cyan\")\n",
    "sub_plot_resampling(winter_dataset, \"Sub_metering_3\", \"Q\", \"Winter Sub_metering_3 quarterly resampling\", 60, \"bar\", \"cyan\")"
   ]
  },
  {
   "cell_type": "markdown",
   "metadata": {},
   "source": [
    "**Correlation Map**"
   ]
  },
  {
   "cell_type": "code",
   "execution_count": null,
   "metadata": {},
   "outputs": [],
   "source": [
    "winter_dataset.corr().style.background_gradient(cmap = \"PRGn\")"
   ]
  },
  {
   "cell_type": "code",
   "execution_count": null,
   "metadata": {
    "scrolled": true
   },
   "outputs": [],
   "source": [
    "winter_dataset.resample(\"D\").mean().corr().style.background_gradient(cmap = \"PRGn\")"
   ]
  },
  {
   "cell_type": "code",
   "execution_count": null,
   "metadata": {},
   "outputs": [],
   "source": [
    "winter_dataset.resample(\"M\").mean().corr().style.background_gradient(cmap = \"PRGn\")"
   ]
  },
  {
   "cell_type": "code",
   "execution_count": null,
   "metadata": {},
   "outputs": [],
   "source": [
    "winter_dataset.resample(\"Q\").mean().corr().style.background_gradient(cmap = \"PRGn\")"
   ]
  },
  {
   "cell_type": "markdown",
   "metadata": {},
   "source": [
    "**Spring**"
   ]
  },
  {
   "cell_type": "code",
   "execution_count": null,
   "metadata": {},
   "outputs": [],
   "source": [
    "spring_dataset = dataset.loc[dataset['season']==\"spring\"]"
   ]
  },
  {
   "cell_type": "code",
   "execution_count": null,
   "metadata": {},
   "outputs": [],
   "source": [
    "#Global Active power\n",
    "sub_plot_resampling(spring_dataset, \"Global_active_power\", \"D\", \"Spring Global_active_power daily resampling\")\n",
    "sub_plot_resampling(spring_dataset, \"Global_active_power\", \"W\", \"Spring Global_active_power monthly resampling\", 80, \"bar\")\n",
    "sub_plot_resampling(spring_dataset, \"Global_active_power\", \"Q\", \"Spring Global_active_power quarterly resampling\", 60, \"bar\")\n",
    "\n",
    "#Global Reactive Power\n",
    "sub_plot_resampling(spring_dataset, \"Global_reactive_power\", \"D\", \"Spring Global_reactive_power daily resampling\", color = \"red\")\n",
    "sub_plot_resampling(spring_dataset, \"Global_reactive_power\", \"W\", \"Spring Global_reactive_power monthly resampling\", 80, \"bar\", \"red\")\n",
    "sub_plot_resampling(spring_dataset, \"Global_reactive_power\", \"Q\", \"Spring Global_reactive_power quarterly resampling\", 60, \"bar\", color=\"red\")\n",
    "\n",
    "#Voltage\n",
    "sub_plot_resampling(spring_dataset, \"Voltage\", \"D\", \"Spring Voltage daily resampling\", color=\"green\")\n",
    "sub_plot_resampling(spring_dataset, \"Voltage\", \"W\", \"Spring Voltage monthly resampling\", 80, \"bar\", \"green\")\n",
    "sub_plot_resampling(spring_dataset, \"Voltage\", \"Q\", \"Spring Voltage quarterly resampling\", 60, \"bar\", \"green\")\n",
    "\n",
    "#Global Intensity\n",
    "sub_plot_resampling(spring_dataset, \"Global_intensity\", \"D\", \"Spring Global_intensity daily resampling\", color=\"purple\")\n",
    "sub_plot_resampling(spring_dataset, \"Global_intensity\", \"W\", \"Spring Global_intensity monthly resampling\", 80, \"bar\", \"purple\")\n",
    "sub_plot_resampling(spring_dataset, \"Global_intensity\", \"Q\", \"Spring Global_intensity quarterly resampling\", 60, \"bar\", \"purple\")\n",
    "\n",
    "#Submetering 1\n",
    "sub_plot_resampling(spring_dataset, \"Sub_metering_1\", \"D\", \"Spring Sub_metering_1 daily resampling\", color=\"brown\")\n",
    "sub_plot_resampling(spring_dataset, \"Sub_metering_1\", \"W\", \"Spring Sub_metering_1 monthly resampling\", 80, \"bar\", \"brown\")\n",
    "sub_plot_resampling(spring_dataset, \"Sub_metering_1\", \"Q\", \"Spring Sub_metering_1 quarterly resampling\", 60, \"bar\", \"brown\")\n",
    "\n",
    "#Submetering 2\n",
    "sub_plot_resampling(spring_dataset, \"Sub_metering_2\", \"D\", \"Spring Sub_metering_2 daily resampling\", color=\"orange\")\n",
    "sub_plot_resampling(spring_dataset, \"Sub_metering_2\", \"W\", \"Spring Sub_metering_2 monthly resampling\", 80, \"bar\", \"orange\")\n",
    "sub_plot_resampling(spring_dataset, \"Sub_metering_2\", \"Q\", \"Spring Sub_metering_2 quarterly resampling\", 60, \"bar\", \"orange\")\n",
    "\n",
    "#Submetering 3\n",
    "sub_plot_resampling(spring_dataset, \"Sub_metering_3\", \"D\", \"Spring Sub_metering_3 daily resampling\", color=\"cyan\")\n",
    "sub_plot_resampling(spring_dataset, \"Sub_metering_3\", \"W\", \"Spring Sub_metering_3 monthly resampling\", 80, \"bar\", \"cyan\")\n",
    "sub_plot_resampling(spring_dataset, \"Sub_metering_3\", \"Q\", \"Spring Sub_metering_3 quarterly resampling\", 60, \"bar\", \"cyan\")"
   ]
  },
  {
   "cell_type": "markdown",
   "metadata": {},
   "source": [
    "**Correlation Map**"
   ]
  },
  {
   "cell_type": "code",
   "execution_count": null,
   "metadata": {},
   "outputs": [],
   "source": [
    "spring_dataset.corr().style.background_gradient(cmap = \"PRGn\")"
   ]
  },
  {
   "cell_type": "code",
   "execution_count": null,
   "metadata": {},
   "outputs": [],
   "source": [
    "spring_dataset.resample(\"D\").mean().corr().style.background_gradient(cmap = \"PRGn\")"
   ]
  },
  {
   "cell_type": "code",
   "execution_count": null,
   "metadata": {},
   "outputs": [],
   "source": [
    "spring_dataset.resample(\"M\").mean().corr().style.background_gradient(cmap = \"PRGn\")"
   ]
  },
  {
   "cell_type": "code",
   "execution_count": null,
   "metadata": {},
   "outputs": [],
   "source": [
    "spring_dataset.resample(\"Q\").mean().corr().style.background_gradient(cmap = \"PRGn\")"
   ]
  },
  {
   "cell_type": "markdown",
   "metadata": {},
   "source": [
    "**Summer**"
   ]
  },
  {
   "cell_type": "code",
   "execution_count": null,
   "metadata": {},
   "outputs": [],
   "source": [
    "summer_dataset = dataset.loc[dataset['season']==\"summer\"]"
   ]
  },
  {
   "cell_type": "code",
   "execution_count": null,
   "metadata": {},
   "outputs": [],
   "source": [
    "#Global Active power\n",
    "sub_plot_resampling(summer_dataset, \"Global_active_power\", \"D\", \"Summer Global_active_power daily resampling\")\n",
    "sub_plot_resampling(summer_dataset, \"Global_active_power\", \"W\", \"Summer Global_active_power monthly resampling\", 80, \"bar\")\n",
    "sub_plot_resampling(summer_dataset, \"Global_active_power\", \"Q\", \"Summer Global_active_power quarterly resampling\", 60, \"bar\")\n",
    "\n",
    "#Global Reactive Power\n",
    "sub_plot_resampling(summer_dataset, \"Global_reactive_power\", \"D\", \"Summer Global_reactive_power daily resampling\", color = \"red\")\n",
    "sub_plot_resampling(summer_dataset, \"Global_reactive_power\", \"W\", \"Summer Global_reactive_power monthly resampling\", 80, \"bar\", \"red\")\n",
    "sub_plot_resampling(summer_dataset, \"Global_reactive_power\", \"Q\", \"Summer Global_reactive_power quarterly resampling\", 60, \"bar\", color=\"red\")\n",
    "\n",
    "#Voltage\n",
    "sub_plot_resampling(summer_dataset, \"Voltage\", \"D\", \"Summer Voltage daily resampling\", color=\"green\")\n",
    "sub_plot_resampling(summer_dataset, \"Voltage\", \"W\", \"Summer Voltage monthly resampling\", 80, \"bar\", \"green\")\n",
    "sub_plot_resampling(summer_dataset, \"Voltage\", \"Q\", \"Summer Voltage quarterly resampling\", 60, \"bar\", \"green\")\n",
    "\n",
    "#Global Intensity\n",
    "sub_plot_resampling(summer_dataset, \"Global_intensity\", \"D\", \"Summer Global_intensity daily resampling\", color=\"purple\")\n",
    "sub_plot_resampling(summer_dataset, \"Global_intensity\", \"W\", \"Summer Global_intensity monthly resampling\", 80, \"bar\", \"purple\")\n",
    "sub_plot_resampling(summer_dataset, \"Global_intensity\", \"Q\", \"Summer Global_intensity quarterly resampling\", 60, \"bar\", \"purple\")\n",
    "\n",
    "#Submetering 1\n",
    "sub_plot_resampling(summer_dataset, \"Sub_metering_1\", \"D\", \"Summer Sub_metering_1 daily resampling\", color=\"brown\")\n",
    "sub_plot_resampling(summer_dataset, \"Sub_metering_1\", \"W\", \"Summer Sub_metering_1 monthly resampling\", 80, \"bar\", \"brown\")\n",
    "sub_plot_resampling(summer_dataset, \"Sub_metering_1\", \"Q\", \"Summer Sub_metering_1 quarterly resampling\", 60, \"bar\", \"brown\")\n",
    "\n",
    "#Submetering 2\n",
    "sub_plot_resampling(summer_dataset, \"Sub_metering_2\", \"D\", \"Summer Sub_metering_2 daily resampling\", color=\"orange\")\n",
    "sub_plot_resampling(summer_dataset, \"Sub_metering_2\", \"W\", \"Summer Sub_metering_2 monthly resampling\", 80, \"bar\", \"orange\")\n",
    "sub_plot_resampling(summer_dataset, \"Sub_metering_2\", \"Q\", \"Summer Sub_metering_2 quarterly resampling\", 60, \"bar\", \"orange\")\n",
    "\n",
    "#Submetering 3\n",
    "sub_plot_resampling(summer_dataset, \"Sub_metering_3\", \"D\", \"Summer Sub_metering_3 daily resampling\", color=\"cyan\")\n",
    "sub_plot_resampling(summer_dataset, \"Sub_metering_3\", \"W\", \"Summer Sub_metering_3 monthly resampling\", 80, \"bar\", \"cyan\")\n",
    "sub_plot_resampling(summer_dataset, \"Sub_metering_3\", \"Q\", \"Summer Sub_metering_3 quarterly resampling\", 60, \"bar\", \"cyan\")"
   ]
  },
  {
   "cell_type": "markdown",
   "metadata": {},
   "source": [
    "**Correlation Map**"
   ]
  },
  {
   "cell_type": "markdown",
   "metadata": {},
   "source": [
    "No resampling"
   ]
  },
  {
   "cell_type": "code",
   "execution_count": null,
   "metadata": {},
   "outputs": [],
   "source": [
    "summer_dataset.corr().style.background_gradient(cmap = \"PRGn\")"
   ]
  },
  {
   "cell_type": "markdown",
   "metadata": {},
   "source": [
    "Daily resampling"
   ]
  },
  {
   "cell_type": "code",
   "execution_count": null,
   "metadata": {},
   "outputs": [],
   "source": [
    "summer_dataset.resample(\"D\").mean().corr().style.background_gradient(cmap = \"PRGn\")"
   ]
  },
  {
   "cell_type": "markdown",
   "metadata": {},
   "source": [
    "Monthly resampling"
   ]
  },
  {
   "cell_type": "code",
   "execution_count": null,
   "metadata": {},
   "outputs": [],
   "source": [
    "summer_dataset.resample(\"M\").mean().corr().style.background_gradient(cmap = \"PRGn\")"
   ]
  },
  {
   "cell_type": "markdown",
   "metadata": {},
   "source": [
    "Quarterly resampling"
   ]
  },
  {
   "cell_type": "code",
   "execution_count": null,
   "metadata": {},
   "outputs": [],
   "source": [
    "summer_dataset.resample(\"Q\").mean().corr().style.background_gradient(cmap = \"PRGn\")"
   ]
  },
  {
   "cell_type": "markdown",
   "metadata": {},
   "source": [
    "**Autumn**"
   ]
  },
  {
   "cell_type": "code",
   "execution_count": null,
   "metadata": {},
   "outputs": [],
   "source": [
    "autumn_dataset = dataset.loc[dataset['season']==\"autumn\"]"
   ]
  },
  {
   "cell_type": "code",
   "execution_count": null,
   "metadata": {},
   "outputs": [],
   "source": [
    "#Global Active power\n",
    "sub_plot_resampling(autumn_dataset, \"Global_active_power\", \"D\", \"Autumn Global_active_power daily resampling\")\n",
    "sub_plot_resampling(autumn_dataset, \"Global_active_power\", \"W\", \"Autumn Global_active_power monthly resampling\", 80, \"bar\")\n",
    "sub_plot_resampling(autumn_dataset, \"Global_active_power\", \"Q\", \"Autumn Global_active_power quarterly resampling\", 60, \"bar\")\n",
    "\n",
    "#Global Reactive Power\n",
    "sub_plot_resampling(autumn_dataset, \"Global_reactive_power\", \"D\", \"Autumn Global_reactive_power daily resampling\", color = \"red\")\n",
    "sub_plot_resampling(autumn_dataset, \"Global_reactive_power\", \"W\", \"Autumn Global_reactive_power monthly resampling\", 80, \"bar\", \"red\")\n",
    "sub_plot_resampling(autumn_dataset, \"Global_reactive_power\", \"Q\", \"Autumn Global_reactive_power quarterly resampling\", 60, \"bar\", color=\"red\")\n",
    "\n",
    "#Voltage\n",
    "sub_plot_resampling(autumn_dataset, \"Voltage\", \"D\", \"Autumn Voltage daily resampling\", color=\"green\")\n",
    "sub_plot_resampling(autumn_dataset, \"Voltage\", \"W\", \"Autumn Voltage monthly resampling\", 80, \"bar\", \"green\")\n",
    "sub_plot_resampling(autumn_dataset, \"Voltage\", \"Q\", \"Autumn Voltage quarterly resampling\", 60, \"bar\", \"green\")\n",
    "\n",
    "#Global Intensity\n",
    "sub_plot_resampling(autumn_dataset, \"Global_intensity\", \"D\", \"Autumn Global_intensity daily resampling\", color=\"purple\")\n",
    "sub_plot_resampling(autumn_dataset, \"Global_intensity\", \"W\", \"Autumn Global_intensity monthly resampling\", 80, \"bar\", \"purple\")\n",
    "sub_plot_resampling(autumn_dataset, \"Global_intensity\", \"Q\", \"Autumn Global_intensity quarterly resampling\", 60, \"bar\", \"purple\")\n",
    "\n",
    "#Submetering 1\n",
    "sub_plot_resampling(autumn_dataset, \"Sub_metering_1\", \"D\", \"Autumn Sub_metering_1 daily resampling\", color=\"brown\")\n",
    "sub_plot_resampling(autumn_dataset, \"Sub_metering_1\", \"W\", \"Autumn Sub_metering_1 monthly resampling\", 80, \"bar\", \"brown\")\n",
    "sub_plot_resampling(autumn_dataset, \"Sub_metering_1\", \"Q\", \"Autumn Sub_metering_1 quarterly resampling\", 60, \"bar\", \"brown\")\n",
    "\n",
    "#Submetering 2\n",
    "sub_plot_resampling(autumn_dataset, \"Sub_metering_2\", \"D\", \"Autumn Sub_metering_2 daily resampling\", color=\"orange\")\n",
    "sub_plot_resampling(autumn_dataset, \"Sub_metering_2\", \"W\", \"Autumn Sub_metering_2 monthly resampling\", 80, \"bar\", \"orange\")\n",
    "sub_plot_resampling(autumn_dataset, \"Sub_metering_2\", \"Q\", \"Autumn Sub_metering_2 quarterly resampling\", 60, \"bar\", \"orange\")\n",
    "\n",
    "#Submetering 3\n",
    "sub_plot_resampling(autumn_dataset, \"Sub_metering_3\", \"D\", \"Autumn Sub_metering_3 daily resampling\", color=\"cyan\")\n",
    "sub_plot_resampling(autumn_dataset, \"Sub_metering_3\", \"W\", \"Autumn Sub_metering_3 monthly resampling\", 80, \"bar\", \"cyan\")\n",
    "sub_plot_resampling(autumn_dataset, \"Sub_metering_3\", \"Q\", \"Autumn Sub_metering_3 quarterly resampling\", 60, \"bar\", \"cyan\")"
   ]
  },
  {
   "cell_type": "markdown",
   "metadata": {},
   "source": [
    "**Correlation Map**"
   ]
  },
  {
   "cell_type": "markdown",
   "metadata": {},
   "source": [
    "No resampling"
   ]
  },
  {
   "cell_type": "code",
   "execution_count": null,
   "metadata": {},
   "outputs": [],
   "source": [
    "autumn_dataset.corr().style.background_gradient(cmap = \"PRGn\")"
   ]
  },
  {
   "cell_type": "markdown",
   "metadata": {},
   "source": [
    "Daily resampling"
   ]
  },
  {
   "cell_type": "code",
   "execution_count": null,
   "metadata": {},
   "outputs": [],
   "source": [
    "autumn_dataset.resample(\"D\").mean().corr().style.background_gradient(cmap = \"PRGn\")"
   ]
  },
  {
   "cell_type": "markdown",
   "metadata": {},
   "source": [
    "Monthly resampling"
   ]
  },
  {
   "cell_type": "code",
   "execution_count": null,
   "metadata": {},
   "outputs": [],
   "source": [
    "autumn_dataset.resample(\"M\").mean().corr().style.background_gradient(cmap = \"PRGn\")"
   ]
  },
  {
   "cell_type": "markdown",
   "metadata": {},
   "source": [
    "Quarterly resampling"
   ]
  },
  {
   "cell_type": "code",
   "execution_count": null,
   "metadata": {},
   "outputs": [],
   "source": [
    "autumn_dataset.resample(\"Q\").mean().corr().style.background_gradient(cmap = \"PRGn\")"
   ]
  },
  {
   "cell_type": "markdown",
   "metadata": {},
   "source": [
    "# FB Prophet"
   ]
  },
  {
   "cell_type": "code",
   "execution_count": 33,
   "metadata": {},
   "outputs": [
    {
     "data": {
      "text/plain": [
       "['Global_active_power',\n",
       " 'Global_reactive_power',\n",
       " 'Voltage',\n",
       " 'Global_intensity',\n",
       " 'power_factor',\n",
       " 'active_energy',\n",
       " 'Sub_metering_1',\n",
       " 'Sub_metering_2',\n",
       " 'Sub_metering_3',\n",
       " 'season',\n",
       " 'tempC',\n",
       " 'FeelsLikeC',\n",
       " 'sunrise',\n",
       " 'sunset']"
      ]
     },
     "execution_count": 33,
     "metadata": {},
     "output_type": "execute_result"
    }
   ],
   "source": [
    "dataset.columns.tolist()"
   ]
  },
  {
   "cell_type": "code",
   "execution_count": 34,
   "metadata": {},
   "outputs": [
    {
     "data": {
      "text/html": [
       "<div>\n",
       "<style scoped>\n",
       "    .dataframe tbody tr th:only-of-type {\n",
       "        vertical-align: middle;\n",
       "    }\n",
       "\n",
       "    .dataframe tbody tr th {\n",
       "        vertical-align: top;\n",
       "    }\n",
       "\n",
       "    .dataframe thead th {\n",
       "        text-align: right;\n",
       "    }\n",
       "</style>\n",
       "<table border=\"1\" class=\"dataframe\">\n",
       "  <thead>\n",
       "    <tr style=\"text-align: right;\">\n",
       "      <th></th>\n",
       "      <th>Global_active_power</th>\n",
       "      <th>Global_reactive_power</th>\n",
       "      <th>Voltage</th>\n",
       "      <th>Global_intensity</th>\n",
       "      <th>power_factor</th>\n",
       "      <th>active_energy</th>\n",
       "      <th>Sub_metering_1</th>\n",
       "      <th>Sub_metering_2</th>\n",
       "      <th>Sub_metering_3</th>\n",
       "      <th>season</th>\n",
       "      <th>tempC</th>\n",
       "      <th>FeelsLikeC</th>\n",
       "      <th>sunrise</th>\n",
       "      <th>sunset</th>\n",
       "    </tr>\n",
       "    <tr>\n",
       "      <th>time</th>\n",
       "      <th></th>\n",
       "      <th></th>\n",
       "      <th></th>\n",
       "      <th></th>\n",
       "      <th></th>\n",
       "      <th></th>\n",
       "      <th></th>\n",
       "      <th></th>\n",
       "      <th></th>\n",
       "      <th></th>\n",
       "      <th></th>\n",
       "      <th></th>\n",
       "      <th></th>\n",
       "      <th></th>\n",
       "    </tr>\n",
       "  </thead>\n",
       "  <tbody>\n",
       "    <tr>\n",
       "      <th>2008-12-16 17:00:00</th>\n",
       "      <td>4.216</td>\n",
       "      <td>0.418</td>\n",
       "      <td>234.84</td>\n",
       "      <td>18.4</td>\n",
       "      <td>0.975687</td>\n",
       "      <td>52.266667</td>\n",
       "      <td>0.0</td>\n",
       "      <td>1.0</td>\n",
       "      <td>17.0</td>\n",
       "      <td>autumn</td>\n",
       "      <td>-1</td>\n",
       "      <td>1</td>\n",
       "      <td>09:39 AM</td>\n",
       "      <td>05:55 PM</td>\n",
       "    </tr>\n",
       "    <tr>\n",
       "      <th>2008-12-16 17:00:00</th>\n",
       "      <td>5.360</td>\n",
       "      <td>0.436</td>\n",
       "      <td>233.63</td>\n",
       "      <td>23.0</td>\n",
       "      <td>0.997490</td>\n",
       "      <td>72.333333</td>\n",
       "      <td>0.0</td>\n",
       "      <td>1.0</td>\n",
       "      <td>16.0</td>\n",
       "      <td>autumn</td>\n",
       "      <td>-1</td>\n",
       "      <td>1</td>\n",
       "      <td>09:39 AM</td>\n",
       "      <td>05:55 PM</td>\n",
       "    </tr>\n",
       "    <tr>\n",
       "      <th>2008-12-16 17:00:00</th>\n",
       "      <td>5.374</td>\n",
       "      <td>0.498</td>\n",
       "      <td>233.29</td>\n",
       "      <td>23.0</td>\n",
       "      <td>1.001552</td>\n",
       "      <td>70.566667</td>\n",
       "      <td>0.0</td>\n",
       "      <td>2.0</td>\n",
       "      <td>17.0</td>\n",
       "      <td>autumn</td>\n",
       "      <td>-1</td>\n",
       "      <td>1</td>\n",
       "      <td>09:39 AM</td>\n",
       "      <td>05:55 PM</td>\n",
       "    </tr>\n",
       "    <tr>\n",
       "      <th>2008-12-16 17:00:00</th>\n",
       "      <td>5.388</td>\n",
       "      <td>0.502</td>\n",
       "      <td>233.74</td>\n",
       "      <td>23.0</td>\n",
       "      <td>1.002228</td>\n",
       "      <td>71.800000</td>\n",
       "      <td>0.0</td>\n",
       "      <td>1.0</td>\n",
       "      <td>17.0</td>\n",
       "      <td>autumn</td>\n",
       "      <td>-1</td>\n",
       "      <td>1</td>\n",
       "      <td>09:39 AM</td>\n",
       "      <td>05:55 PM</td>\n",
       "    </tr>\n",
       "    <tr>\n",
       "      <th>2008-12-16 17:00:00</th>\n",
       "      <td>3.666</td>\n",
       "      <td>0.528</td>\n",
       "      <td>235.68</td>\n",
       "      <td>15.8</td>\n",
       "      <td>0.984493</td>\n",
       "      <td>43.100000</td>\n",
       "      <td>0.0</td>\n",
       "      <td>1.0</td>\n",
       "      <td>17.0</td>\n",
       "      <td>autumn</td>\n",
       "      <td>-1</td>\n",
       "      <td>1</td>\n",
       "      <td>09:39 AM</td>\n",
       "      <td>05:55 PM</td>\n",
       "    </tr>\n",
       "  </tbody>\n",
       "</table>\n",
       "</div>"
      ],
      "text/plain": [
       "                     Global_active_power  Global_reactive_power  Voltage  \\\n",
       "time                                                                       \n",
       "2008-12-16 17:00:00                4.216                  0.418   234.84   \n",
       "2008-12-16 17:00:00                5.360                  0.436   233.63   \n",
       "2008-12-16 17:00:00                5.374                  0.498   233.29   \n",
       "2008-12-16 17:00:00                5.388                  0.502   233.74   \n",
       "2008-12-16 17:00:00                3.666                  0.528   235.68   \n",
       "\n",
       "                     Global_intensity  power_factor  active_energy  \\\n",
       "time                                                                 \n",
       "2008-12-16 17:00:00              18.4      0.975687      52.266667   \n",
       "2008-12-16 17:00:00              23.0      0.997490      72.333333   \n",
       "2008-12-16 17:00:00              23.0      1.001552      70.566667   \n",
       "2008-12-16 17:00:00              23.0      1.002228      71.800000   \n",
       "2008-12-16 17:00:00              15.8      0.984493      43.100000   \n",
       "\n",
       "                     Sub_metering_1  Sub_metering_2  Sub_metering_3  season  \\\n",
       "time                                                                          \n",
       "2008-12-16 17:00:00             0.0             1.0            17.0  autumn   \n",
       "2008-12-16 17:00:00             0.0             1.0            16.0  autumn   \n",
       "2008-12-16 17:00:00             0.0             2.0            17.0  autumn   \n",
       "2008-12-16 17:00:00             0.0             1.0            17.0  autumn   \n",
       "2008-12-16 17:00:00             0.0             1.0            17.0  autumn   \n",
       "\n",
       "                     tempC  FeelsLikeC   sunrise    sunset  \n",
       "time                                                        \n",
       "2008-12-16 17:00:00     -1           1  09:39 AM  05:55 PM  \n",
       "2008-12-16 17:00:00     -1           1  09:39 AM  05:55 PM  \n",
       "2008-12-16 17:00:00     -1           1  09:39 AM  05:55 PM  \n",
       "2008-12-16 17:00:00     -1           1  09:39 AM  05:55 PM  \n",
       "2008-12-16 17:00:00     -1           1  09:39 AM  05:55 PM  "
      ]
     },
     "execution_count": 34,
     "metadata": {},
     "output_type": "execute_result"
    }
   ],
   "source": [
    "dataset.head()"
   ]
  },
  {
   "cell_type": "code",
   "execution_count": 35,
   "metadata": {},
   "outputs": [
    {
     "data": {
      "text/html": [
       "        <script type=\"text/javascript\">\n",
       "        window.PlotlyConfig = {MathJaxConfig: 'local'};\n",
       "        if (window.MathJax) {MathJax.Hub.Config({SVG: {font: \"STIX-Web\"}});}\n",
       "        if (typeof require !== 'undefined') {\n",
       "        require.undef(\"plotly\");\n",
       "        requirejs.config({\n",
       "            paths: {\n",
       "                'plotly': ['https://cdn.plot.ly/plotly-latest.min']\n",
       "            }\n",
       "        });\n",
       "        require(['plotly'], function(Plotly) {\n",
       "            window._Plotly = Plotly;\n",
       "        });\n",
       "        }\n",
       "        </script>\n",
       "        "
      ]
     },
     "metadata": {},
     "output_type": "display_data"
    }
   ],
   "source": [
    "from plotly.offline import init_notebook_mode, iplot\n",
    "from plotly import graph_objs as go\n",
    "\n",
    "# Initialize plotly\n",
    "init_notebook_mode(connected=True)"
   ]
  },
  {
   "cell_type": "code",
   "execution_count": 36,
   "metadata": {},
   "outputs": [],
   "source": [
    "def plotly_df(df, title=''):\n",
    "    \"\"\"Visualize all the dataframe columns as line plots.\"\"\"\n",
    "    common_kw = dict(x=df.index, mode='lines')\n",
    "    data = [go.Scatter(y=df[c], name=c, **common_kw) for c in df.columns]\n",
    "    layout = dict(title=title)\n",
    "    fig = dict(data=data, layout=layout)\n",
    "    iplot(fig, show_link=False)"
   ]
  },
  {
   "cell_type": "code",
   "execution_count": 42,
   "metadata": {},
   "outputs": [],
   "source": [
    "temp_dataset = dataset[[\"Global_active_power\",\n",
    "#                         \"Global_reactive_power\",\n",
    "#                         \"Voltage\",\n",
    "#                         \"Global_intensity\",\n",
    "#                         \"power_factor\",\n",
    "#                         \"active_energy\",\n",
    "#                         \"Sub_metering_1\",\n",
    "#                         \"Sub_metering_2\",\n",
    "#                         \"Sub_metering_3\", \n",
    "#                         \"tempC\",\n",
    "#                         \"FeelsLikeC\"\n",
    "                       ]]"
   ]
  },
  {
   "cell_type": "code",
   "execution_count": 48,
   "metadata": {},
   "outputs": [],
   "source": [
    "temp_dataset.columns = ['y']"
   ]
  },
  {
   "cell_type": "markdown",
   "metadata": {},
   "source": [
    "**Train test split**"
   ]
  },
  {
   "cell_type": "code",
   "execution_count": null,
   "metadata": {},
   "outputs": [],
   "source": []
  },
  {
   "cell_type": "code",
   "execution_count": null,
   "metadata": {},
   "outputs": [],
   "source": []
  },
  {
   "cell_type": "code",
   "execution_count": null,
   "metadata": {},
   "outputs": [],
   "source": []
  },
  {
   "cell_type": "code",
   "execution_count": null,
   "metadata": {},
   "outputs": [],
   "source": []
  }
 ],
 "metadata": {
  "kernelspec": {
   "display_name": "Python 3",
   "language": "python",
   "name": "python3"
  },
  "language_info": {
   "codemirror_mode": {
    "name": "ipython",
    "version": 3
   },
   "file_extension": ".py",
   "mimetype": "text/x-python",
   "name": "python",
   "nbconvert_exporter": "python",
   "pygments_lexer": "ipython3",
   "version": "3.6.9"
  }
 },
 "nbformat": 4,
 "nbformat_minor": 2
}
