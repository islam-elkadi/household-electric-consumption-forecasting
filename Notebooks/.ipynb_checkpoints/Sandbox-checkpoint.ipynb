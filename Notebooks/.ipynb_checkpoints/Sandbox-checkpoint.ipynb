{
 "cells": [
  {
   "cell_type": "markdown",
   "metadata": {},
   "source": [
    "# Imports"
   ]
  },
  {
   "cell_type": "code",
   "execution_count": null,
   "metadata": {},
   "outputs": [],
   "source": [
    "import math\n",
    "import numpy as np\n",
    "import pandas as pd\n",
    "import seaborn as sns\n",
    "import matplotlib.pyplot as plt\n",
    "\n",
    "from pprint import pprint\n",
    "from os.path import exists\n",
    "from datetime import datetime\n",
    "from sklearn import preprocessing\n",
    "from wwo_hist import retrieve_hist_data"
   ]
  },
  {
   "cell_type": "markdown",
   "metadata": {},
   "source": [
    "# Utilities functions"
   ]
  },
  {
   "cell_type": "markdown",
   "metadata": {},
   "source": [
    "**Picture size**"
   ]
  },
  {
   "cell_type": "code",
   "execution_count": null,
   "metadata": {},
   "outputs": [],
   "source": [
    "rb_scaler = preprocessing.RobustScaler()"
   ]
  },
  {
   "cell_type": "code",
   "execution_count": null,
   "metadata": {},
   "outputs": [],
   "source": [
    "plt.rcParams[\"figure.figsize\"] = [10, 7]"
   ]
  },
  {
   "cell_type": "markdown",
   "metadata": {},
   "source": [
    "**Functions**"
   ]
  },
  {
   "cell_type": "code",
   "execution_count": null,
   "metadata": {},
   "outputs": [],
   "source": [
    "def power_factor(active_power, voltage, current):\n",
    "    return active_power*1000/(voltage*current)"
   ]
  },
  {
   "cell_type": "code",
   "execution_count": null,
   "metadata": {},
   "outputs": [],
   "source": [
    "def active_energy(global_active_power, sub_metering_1, sub_metering_2, sub_metering_3):\n",
    "    active_energy = (global_active_power*1000/60) - sub_metering_1 - sub_metering_2 - sub_metering_3\n",
    "    return active_energy"
   ]
  },
  {
   "cell_type": "code",
   "execution_count": null,
   "metadata": {},
   "outputs": [],
   "source": [
    "def infer_season(datetime_object):\n",
    "    \n",
    "    datetime_object = str(datetime_object).split()[0]\n",
    "    datetime_object = int(datetime_object.split(\"-\")[1])\n",
    "    \n",
    "    if 1 <= datetime_object <= 2:\n",
    "        return \"winter\"\n",
    "    if 3 <= datetime_object <= 5:\n",
    "        return \"spring\"\n",
    "    if 6 <= datetime_object <= 8:\n",
    "        return \"summer\"\n",
    "    if 9 <= datetime_object <= 12:\n",
    "        return \"autumn\""
   ]
  },
  {
   "cell_type": "code",
   "execution_count": null,
   "metadata": {},
   "outputs": [],
   "source": [
    "def robust_scale(df):\n",
    "    scaled_dataset = df.to_numpy()\n",
    "    scaled_dataset = rb_scaler.fit_transform(scaled_dataset)\n",
    "    scaled_dataset = pd.DataFrame(columns = df.columns.tolist(), data = scaled_dataset)\n",
    "    return df"
   ]
  },
  {
   "cell_type": "code",
   "execution_count": null,
   "metadata": {},
   "outputs": [],
   "source": [
    "def sub_plot_resampling(dataset, name, period, title, rotation = None, kind = None, color = \"blue\"):\n",
    "    resample_df = dataset[name].resample(period).agg(['sum', 'mean', 'std'])\n",
    "    if kind:\n",
    "        resample_df.plot(subplots = True, title = title, color = color, kind = kind)\n",
    "    else:\n",
    "        resample_df.plot(subplots = True, title = title, color = color)\n",
    "    if rotation:\n",
    "        plt.xticks(rotation=rotation)\n",
    "    plt.show()"
   ]
  },
  {
   "cell_type": "code",
   "execution_count": null,
   "metadata": {},
   "outputs": [],
   "source": [
    "def round_time_hour(dataset, index):\n",
    "    dataset[\"time\"] = index\n",
    "    dataset[\"timestamps\"] = index\n",
    "    dataset = dataset.set_index(\"timestamps\", inplace = False)\n",
    "    timelist = [x.to_pydatetime() for x in dataset[\"time\"].tolist()]\n",
    "    timelist = [dt.replace(minute=0, second=0, microsecond=0) for dt in timelist]\n",
    "    dataset[\"time\"] = timelist\n",
    "    return dataset"
   ]
  },
  {
   "cell_type": "markdown",
   "metadata": {},
   "source": [
    "# Load Data"
   ]
  },
  {
   "cell_type": "code",
   "execution_count": null,
   "metadata": {},
   "outputs": [],
   "source": [
    "dataset = pd.read_csv(\"household_electric_consumption.csv\", \n",
    "                      sep = \",\",\n",
    "                      parse_dates={'timestamps' : ['Date', 'Time']},\n",
    "                      infer_datetime_format = True,\n",
    "                      na_values = [\"nan\", \"?\"],\n",
    "                      low_memory = False,\n",
    "                      index_col = \"timestamps\")"
   ]
  },
  {
   "cell_type": "code",
   "execution_count": null,
   "metadata": {},
   "outputs": [],
   "source": [
    "dataset = dataset.drop([\"Unnamed: 0\"], axis = 1)"
   ]
  },
  {
   "cell_type": "markdown",
   "metadata": {},
   "source": [
    "# Data Discovery"
   ]
  },
  {
   "cell_type": "code",
   "execution_count": null,
   "metadata": {},
   "outputs": [],
   "source": [
    "dataset.head()"
   ]
  },
  {
   "cell_type": "code",
   "execution_count": null,
   "metadata": {},
   "outputs": [],
   "source": [
    "dataset.info()"
   ]
  },
  {
   "cell_type": "code",
   "execution_count": null,
   "metadata": {},
   "outputs": [],
   "source": [
    "dataset.describe()"
   ]
  },
  {
   "cell_type": "markdown",
   "metadata": {},
   "source": [
    "As shown below, three out of seven features have huge ranges (large number of unique values). Therefore, the data will be standardized in preparation for NN training."
   ]
  },
  {
   "cell_type": "code",
   "execution_count": null,
   "metadata": {},
   "outputs": [],
   "source": [
    "for name in dataset.columns.tolist():\n",
    "    print(\"Range of {} column: {} --> {}\".format(name, dataset[name].min(), dataset[name].max()))\n",
    "    print(\"Number of unique values in {} column: {}\".format(name, len(set(dataset[name].tolist()))))\n",
    "    print(\"\\n\")"
   ]
  },
  {
   "cell_type": "markdown",
   "metadata": {},
   "source": [
    "# Cleaning"
   ]
  },
  {
   "cell_type": "markdown",
   "metadata": {},
   "source": [
    "**Replace all Null values with mean of each column**"
   ]
  },
  {
   "cell_type": "code",
   "execution_count": null,
   "metadata": {},
   "outputs": [],
   "source": [
    "dataset = dataset.fillna(dataset.mean())"
   ]
  },
  {
   "cell_type": "markdown",
   "metadata": {},
   "source": [
    "**Sanity Check**"
   ]
  },
  {
   "cell_type": "code",
   "execution_count": null,
   "metadata": {},
   "outputs": [],
   "source": [
    "dataset.isnull().sum()"
   ]
  },
  {
   "cell_type": "markdown",
   "metadata": {},
   "source": [
    "**Remove outliers: Robust Scaling**"
   ]
  },
  {
   "cell_type": "code",
   "execution_count": null,
   "metadata": {},
   "outputs": [],
   "source": [
    "# Robust scaling full dataset\n",
    "robust_full = dataset.reset_index(drop = True)\n",
    "robust_full = robust_scale(robust_full)"
   ]
  },
  {
   "cell_type": "code",
   "execution_count": null,
   "metadata": {},
   "outputs": [],
   "source": [
    "dataset = round_time_hour(robust_full, dataset.index)\n",
    "dataset[\"season\"] = dataset.time.apply(lambda x: infer_season(x))"
   ]
  },
  {
   "cell_type": "markdown",
   "metadata": {},
   "source": [
    "# Feature Engineering"
   ]
  },
  {
   "cell_type": "markdown",
   "metadata": {},
   "source": [
    "### Power Factor"
   ]
  },
  {
   "cell_type": "code",
   "execution_count": null,
   "metadata": {},
   "outputs": [],
   "source": [
    "voltage = dataset[\"Voltage\"].tolist()\n",
    "global_active_power = dataset[\"Global_active_power\"].tolist()\n",
    "global_current_intensity = dataset[\"Global_intensity\"].tolist()\n",
    "zipped_list = list(zip(global_active_power, voltage, global_current_intensity))\n",
    "dataset[\"power_factor\"] = [power_factor(active, voltage, current) for active, voltage, current in zipped_list]"
   ]
  },
  {
   "cell_type": "markdown",
   "metadata": {},
   "source": [
    "### Active Energy"
   ]
  },
  {
   "cell_type": "code",
   "execution_count": null,
   "metadata": {},
   "outputs": [],
   "source": [
    "sub_metering_1 = dataset[\"Sub_metering_1\"].tolist()\n",
    "sub_metering_2 = dataset[\"Sub_metering_2\"].tolist()\n",
    "sub_metering_3 = dataset[\"Sub_metering_3\"].tolist()\n",
    "active_energy_zipped_list = zip(global_active_power, sub_metering_1, sub_metering_2, sub_metering_3)\n",
    "dataset[\"active_energy\"] = [active_energy(global_active_power, sub_metering_1, sub_metering_2, sub_metering_3) for global_active_power, sub_metering_1, sub_metering_2, sub_metering_3 in active_energy_zipped_list]"
   ]
  },
  {
   "cell_type": "markdown",
   "metadata": {},
   "source": [
    "### Weather Data"
   ]
  },
  {
   "cell_type": "code",
   "execution_count": null,
   "metadata": {},
   "outputs": [],
   "source": [
    "location = \"sceaux\"\n",
    "file_name = location+\".csv\"\n",
    "\n",
    "if exists(file_name):\n",
    "    hist_weather_data = pd.read_csv(file_name)\n",
    "else:\n",
    "    hist_weather_data = retrieve_hist_data(\"d21cdf5082614691a2b154348192407\", [file_name], '16-12-2008',\n",
    "                                           '26-11-2012', 1, location_label = False, export_csv = True, store_df = True)"
   ]
  },
  {
   "cell_type": "code",
   "execution_count": null,
   "metadata": {},
   "outputs": [],
   "source": [
    "hist_weather_data = hist_weather_data.rename(columns={\"date_time\": \"time\"})"
   ]
  },
  {
   "cell_type": "code",
   "execution_count": null,
   "metadata": {},
   "outputs": [],
   "source": [
    "hist_weather_data[\"time\"] = hist_weather_data[\"time\"].apply(lambda x: datetime.strptime(x, \"%Y-%m-%d %H:%M:%S\"))"
   ]
  },
  {
   "cell_type": "code",
   "execution_count": null,
   "metadata": {},
   "outputs": [],
   "source": [
    "hist_weather_data = hist_weather_data[[\"time\", \"sunrise\", \"sunset\", \"tempC\", \"FeelsLikeC\"]]"
   ]
  },
  {
   "cell_type": "markdown",
   "metadata": {},
   "source": [
    "Since the weather data retrieved only goes back to July 1st 2008, the data needs to be offset by two years since the earliest date from the dataset goes back to 2006."
   ]
  },
  {
   "cell_type": "code",
   "execution_count": null,
   "metadata": {},
   "outputs": [],
   "source": [
    "dataset[\"time\"] = dataset['time'].apply(lambda x: x + pd.DateOffset(years=2))"
   ]
  },
  {
   "cell_type": "code",
   "execution_count": null,
   "metadata": {},
   "outputs": [],
   "source": [
    "weather_data_merged = hist_weather_data.merge(dataset, on='time', how='right').set_index(\"time\")"
   ]
  },
  {
   "cell_type": "code",
   "execution_count": null,
   "metadata": {},
   "outputs": [],
   "source": [
    "weather_data_merged.columns.tolist()"
   ]
  },
  {
   "cell_type": "code",
   "execution_count": null,
   "metadata": {},
   "outputs": [],
   "source": [
    "weather_data_merged = weather_data_merged[[\"Global_active_power\", \n",
    "                                            \"Global_reactive_power\", \n",
    "                                            \"Voltage\", \n",
    "                                            \"Global_intensity\", \n",
    "                                            \"power_factor\", \n",
    "                                            \"active_energy\",\n",
    "                                            \"Sub_metering_1\",\n",
    "                                            \"Sub_metering_2\",\n",
    "                                            \"Sub_metering_3\", \n",
    "                                            \"season\",\n",
    "                                            \"tempC\",\n",
    "                                            \"FeelsLikeC\",\n",
    "                                            \"sunrise\",\n",
    "                                            \"sunset\"]]"
   ]
  },
  {
   "cell_type": "code",
   "execution_count": null,
   "metadata": {},
   "outputs": [],
   "source": [
    "dataset = weather_data_merged"
   ]
  },
  {
   "cell_type": "code",
   "execution_count": null,
   "metadata": {},
   "outputs": [],
   "source": [
    "dataset.head()"
   ]
  },
  {
   "cell_type": "markdown",
   "metadata": {},
   "source": [
    "# Data Visualization: Overall Exploration"
   ]
  },
  {
   "cell_type": "markdown",
   "metadata": {},
   "source": [
    "### Global Active Power"
   ]
  },
  {
   "cell_type": "code",
   "execution_count": null,
   "metadata": {},
   "outputs": [],
   "source": [
    "#Global Active power\n",
    "sub_plot_resampling(dataset, \"Global_active_power\", \"D\", \"Global_active_power daily resampling\")\n",
    "sub_plot_resampling(dataset, \"Global_active_power\", \"M\", \"Global_active_power monthly resampling\", 80, \"bar\")\n",
    "sub_plot_resampling(dataset, \"Global_active_power\", \"Q\", \"Global_active_power quarterly resampling\", 60, \"bar\")\n",
    "\n",
    "#Global Reactive Power\n",
    "sub_plot_resampling(dataset, \"Global_reactive_power\", \"D\", \"Global_reactive_power daily resampling\", color = \"red\")\n",
    "sub_plot_resampling(dataset, \"Global_reactive_power\", \"M\", \"Global_reactive_power monthly resampling\", 80, \"bar\", \"red\")\n",
    "sub_plot_resampling(dataset, \"Global_reactive_power\", \"Q\", \"Global_reactive_power quarterly resampling\", 60, \"bar\", color=\"red\")\n",
    "\n",
    "#Voltage\n",
    "sub_plot_resampling(dataset, \"Voltage\", \"D\", \"Voltage daily resampling\", color=\"green\")\n",
    "sub_plot_resampling(dataset, \"Voltage\", \"M\", \"Voltage monthly resampling\", 80, \"bar\", \"green\")\n",
    "sub_plot_resampling(dataset, \"Voltage\", \"Q\", \"Voltage quarterly resampling\", 60, \"bar\", \"green\")\n",
    "\n",
    "#Global Intensity\n",
    "sub_plot_resampling(dataset, \"Global_intensity\", \"D\", \"Global_intensity daily resampling\", color=\"purple\")\n",
    "sub_plot_resampling(dataset, \"Global_intensity\", \"M\", \"Global_intensity monthly resampling\", 80, \"bar\", \"purple\")\n",
    "sub_plot_resampling(dataset, \"Global_intensity\", \"Q\", \"Global_intensity quarterly resampling\", 60, \"bar\", \"purple\")\n",
    "\n",
    "#Submetering 1\n",
    "sub_plot_resampling(dataset, \"Sub_metering_1\", \"D\", \"Sub_metering_1 daily resampling\", color=\"brown\")\n",
    "sub_plot_resampling(dataset, \"Sub_metering_1\", \"M\", \"Sub_metering_1 monthly resampling\", 80, \"bar\", \"brown\")\n",
    "sub_plot_resampling(dataset, \"Sub_metering_1\", \"Q\", \"Sub_metering_1 quarterly resampling\", 60, \"bar\", \"brown\")\n",
    "\n",
    "#Submetering 2\n",
    "sub_plot_resampling(dataset, \"Sub_metering_2\", \"D\", \"Sub_metering_2 daily resampling\", color=\"orange\")\n",
    "sub_plot_resampling(dataset, \"Sub_metering_2\", \"M\", \"Sub_metering_2 monthly resampling\", 80, \"bar\", \"orange\")\n",
    "sub_plot_resampling(dataset, \"Sub_metering_2\", \"Q\", \"Sub_metering_2 quarterly resampling\", 60, \"bar\", \"orange\")\n",
    "\n",
    "#Submetering 3\n",
    "sub_plot_resampling(dataset, \"Sub_metering_3\", \"D\", \"Sub_metering_3 daily resampling\", color=\"cyan\")\n",
    "sub_plot_resampling(dataset, \"Sub_metering_3\", \"M\", \"Sub_metering_3 monthly resampling\", 80, \"bar\", \"cyan\")\n",
    "sub_plot_resampling(dataset, \"Sub_metering_3\", \"Q\", \"Sub_metering_3 quarterly resampling\", 60, \"bar\", \"cyan\")\n",
    "\n",
    "#Power Factor\n",
    "sub_plot_resampling(dataset, \"power_factor\", \"D\", \"power_factor daily resampling\", color=\"black\")\n",
    "sub_plot_resampling(dataset, \"power_factor\", \"M\", \"power_factor monthly resampling\", 80, \"bar\", \"black\")\n",
    "sub_plot_resampling(dataset, \"power_factor\", \"Q\", \"power_factor quarterly resampling\", 60, \"bar\", \"black\")\n",
    "\n",
    "#Active Energy\n",
    "sub_plot_resampling(dataset, \"active_energy\", \"D\", \"active_energy daily resampling\", color=\"pink\")\n",
    "sub_plot_resampling(dataset, \"active_energy\", \"M\", \"active_energy monthly resampling\", 80, \"bar\", \"pink\")\n",
    "sub_plot_resampling(dataset, \"active_energy\", \"Q\", \"active_energy quarterly resampling\", 60, \"bar\", \"pink\")"
   ]
  },
  {
   "cell_type": "markdown",
   "metadata": {},
   "source": [
    "### Visual Comparison"
   ]
  },
  {
   "cell_type": "markdown",
   "metadata": {},
   "source": [
    "**Mean**"
   ]
  },
  {
   "cell_type": "code",
   "execution_count": null,
   "metadata": {},
   "outputs": [],
   "source": [
    "#Daily\n",
    "i = 1\n",
    "cols = [0, 1, 2, 3, 5, 6]\n",
    "groups = cols\n",
    "values = dataset.resample('D').mean().values\n",
    "# plot each column\n",
    "plt.figure(figsize=(17, 15))\n",
    "for group in groups:\n",
    "\tplt.subplot(len(cols), 1, i)\n",
    "\tplt.plot(values[:, group])\n",
    "\tplt.title(dataset.columns[group], y=0.75, loc='right')\n",
    "\ti += 1\n",
    "plt.show()\n",
    "\n",
    "#Weekly\n",
    "dataset.Global_active_power.resample('W').mean().plot(color='black', legend=True)\n",
    "dataset.Global_reactive_power.resample('W').mean().plot(color='firebrick', legend=True)\n",
    "dataset.Voltage.resample('W').mean().plot(color='sienna', legend=True)\n",
    "dataset.Global_intensity.resample('W').mean().plot(color='seagreen', legend=True)\n",
    "dataset.Sub_metering_1.resample('W').mean().plot(color='darkcyan', legend=True)\n",
    "dataset.Sub_metering_2.resample('W').mean().plot(color='royalblue', legend=True)\n",
    "dataset.Sub_metering_3.resample('W').mean().plot(color='darkorchid', legend=True)\n",
    "dataset.power_factor.resample('W').mean().plot(color='crimson', legend=True)\n",
    "dataset.active_energy.resample('W').mean().plot(color='pink', legend=True)\n",
    "plt.show()\n",
    "\n",
    "#Monthly\n",
    "dataset.Global_active_power.resample('M').mean().plot(kind='hist', color='black', legend=True )\n",
    "dataset.Global_reactive_power.resample('M').mean().plot(kind='hist',color='firebrick', legend=True)\n",
    "dataset.Voltage.resample('M').mean().plot(kind='hist',color='sienna', legend=True)\n",
    "dataset.Global_intensity.resample('M').mean().plot(kind='hist', color='seagreen', legend=True)\n",
    "dataset.Sub_metering_1.resample('M').mean().plot(kind='hist', color='darkcyan', legend=True)\n",
    "dataset.Sub_metering_2.resample('M').mean().plot(kind='hist', color='royalblue', legend=True)\n",
    "dataset.Sub_metering_3.resample('M').mean().plot(kind='hist', color='darkorchid', legend=True)\n",
    "dataset.power_factor.resample('M').mean().plot(kind='hist', color='crimson', legend=True)\n",
    "dataset.active_energy.resample('M').mean().plot(kind='hist', color='pink', legend=True)\n",
    "plt.show()"
   ]
  },
  {
   "cell_type": "markdown",
   "metadata": {},
   "source": [
    "**Sum**"
   ]
  },
  {
   "cell_type": "code",
   "execution_count": null,
   "metadata": {},
   "outputs": [],
   "source": [
    "#Daily\n",
    "i = 1\n",
    "cols = [0, 1, 2, 3, 5, 6]\n",
    "groups = cols\n",
    "values = dataset.resample('D').sum().values\n",
    "# plot each column\n",
    "plt.figure(figsize=(17, 15))\n",
    "for group in groups:\n",
    "\tplt.subplot(len(cols), 1, i)\n",
    "\tplt.plot(values[:, group])\n",
    "\tplt.title(dataset.columns[group], y=0.75, loc='right')\n",
    "\ti += 1\n",
    "plt.show()\n",
    "\n",
    "#Weekly\n",
    "dataset.Global_active_power.resample('W').sum().plot(color='black', legend=True)\n",
    "dataset.Global_reactive_power.resample('W').sum().plot(color='firebrick', legend=True)\n",
    "dataset.Voltage.resample('W').sum().plot(color='sienna', legend=True)\n",
    "dataset.Global_intensity.resample('W').sum().plot(color='seagreen', legend=True)\n",
    "dataset.Sub_metering_1.resample('W').sum().plot(color='darkcyan', legend=True)\n",
    "dataset.Sub_metering_2.resample('W').sum().plot(color='royalblue', legend=True)\n",
    "dataset.Sub_metering_3.resample('W').sum().plot(color='darkorchid', legend=True)\n",
    "dataset.power_factor.resample('W').sum().plot(color='crimson', legend=True)\n",
    "dataset.active_energy.resample('W').sum().plot(color='pink', legend=True)\n",
    "plt.show()\n",
    "\n",
    "#Monthly\n",
    "dataset.Global_active_power.resample('M').sum().plot(kind='hist', color='black', legend=True )\n",
    "dataset.Global_reactive_power.resample('M').sum().plot(kind='hist',color='firebrick', legend=True)\n",
    "dataset.Voltage.resample('M').sum().plot(kind='hist',color='sienna', legend=True)\n",
    "dataset.Global_intensity.resample('M').sum().plot(kind='hist', color='seagreen', legend=True)\n",
    "dataset.Sub_metering_1.resample('M').sum().plot(kind='hist', color='darkcyan', legend=True)\n",
    "dataset.Sub_metering_2.resample('M').sum().plot(kind='hist', color='royalblue', legend=True)\n",
    "dataset.Sub_metering_3.resample('M').sum().plot(kind='hist', color='darkorchid', legend=True)\n",
    "dataset.power_factor.resample('M').sum().plot(kind='hist', color='crimson', legend=True)\n",
    "dataset.active_energy.resample('M').sum().plot(kind='hist', color='pink', legend=True)\n",
    "plt.show()"
   ]
  },
  {
   "cell_type": "markdown",
   "metadata": {},
   "source": [
    "**Std**"
   ]
  },
  {
   "cell_type": "code",
   "execution_count": null,
   "metadata": {},
   "outputs": [],
   "source": [
    "#Daily\n",
    "i = 1\n",
    "cols = [0, 1, 2, 3, 5, 6]\n",
    "groups = cols\n",
    "values = dataset.resample('D').std().values\n",
    "# plot each column\n",
    "plt.figure(figsize=(17, 15))\n",
    "for group in groups:\n",
    "\tplt.subplot(len(cols), 1, i)\n",
    "\tplt.plot(values[:, group])\n",
    "\tplt.title(dataset.columns[group], y=0.75, loc='right')\n",
    "\ti += 1\n",
    "plt.show()\n",
    "\n",
    "#Weekly\n",
    "dataset.Global_active_power.resample('W').std().plot(color='black', legend=True)\n",
    "dataset.Global_reactive_power.resample('W').std().plot(color='firebrick', legend=True)\n",
    "dataset.Voltage.resample('W').std().plot(color='sienna', legend=True)\n",
    "dataset.Global_intensity.resample('W').std().plot(color='seagreen', legend=True)\n",
    "dataset.Sub_metering_1.resample('W').std().plot(color='darkcyan', legend=True)\n",
    "dataset.Sub_metering_2.resample('W').std().plot(color='royalblue', legend=True)\n",
    "dataset.Sub_metering_3.resample('W').std().plot(color='darkorchid', legend=True)\n",
    "dataset.power_factor.resample('W').std().plot(color='crimson', legend=True)\n",
    "dataset.active_energy.resample('W').std().plot(color='pink', legend=True)\n",
    "plt.show()\n",
    "\n",
    "#Monthly\n",
    "dataset.Global_active_power.resample('M').std().plot(kind='hist', color='black', legend=True )\n",
    "dataset.Global_reactive_power.resample('M').std().plot(kind='hist',color='firebrick', legend=True)\n",
    "dataset.Voltage.resample('M').std().plot(kind='hist',color='sienna', legend=True)\n",
    "dataset.Global_intensity.resample('M').std().plot(kind='hist', color='seagreen', legend=True)\n",
    "dataset.Sub_metering_1.resample('M').std().plot(kind='hist', color='darkcyan', legend=True)\n",
    "dataset.Sub_metering_2.resample('M').std().plot(kind='hist', color='royalblue', legend=True)\n",
    "dataset.Sub_metering_3.resample('M').std().plot(kind='hist', color='darkorchid', legend=True)\n",
    "dataset.power_factor.resample('M').std().plot(kind='hist', color='crimson', legend=True)\n",
    "dataset.active_energy.resample('M').std().plot(kind='hist', color='pink', legend=True)\n",
    "plt.show()"
   ]
  },
  {
   "cell_type": "markdown",
   "metadata": {},
   "source": [
    "**Correlation Map**"
   ]
  },
  {
   "cell_type": "code",
   "execution_count": null,
   "metadata": {},
   "outputs": [],
   "source": [
    "dataset.corr().style.background_gradient(cmap = \"PRGn\")"
   ]
  },
  {
   "cell_type": "code",
   "execution_count": null,
   "metadata": {},
   "outputs": [],
   "source": [
    "dataset.resample(\"D\").mean().corr().style.background_gradient(cmap = \"PRGn\")"
   ]
  },
  {
   "cell_type": "code",
   "execution_count": null,
   "metadata": {},
   "outputs": [],
   "source": [
    "dataset.resample(\"M\").mean().corr().style.background_gradient(cmap = \"PRGn\")"
   ]
  },
  {
   "cell_type": "code",
   "execution_count": null,
   "metadata": {},
   "outputs": [],
   "source": [
    "dataset.resample(\"Q\").mean().corr().style.background_gradient(cmap = \"PRGn\")"
   ]
  },
  {
   "cell_type": "markdown",
   "metadata": {},
   "source": [
    "# Data Visualization: Seasonal Exploration"
   ]
  },
  {
   "cell_type": "markdown",
   "metadata": {},
   "source": [
    "### Winter"
   ]
  },
  {
   "cell_type": "code",
   "execution_count": null,
   "metadata": {},
   "outputs": [],
   "source": [
    "winter_dataset = dataset.loc[dataset['season']==\"winter\"]"
   ]
  },
  {
   "cell_type": "code",
   "execution_count": null,
   "metadata": {},
   "outputs": [],
   "source": [
    "#Global Active power\n",
    "sub_plot_resampling(winter_dataset, \"Global_active_power\", \"D\", \"Winter Global_active_power daily resampling\")\n",
    "sub_plot_resampling(winter_dataset, \"Global_active_power\", \"W\", \"Winter Global_active_power monthly resampling\", 80, \"bar\")\n",
    "sub_plot_resampling(winter_dataset, \"Global_active_power\", \"Q\", \"Winter Global_active_power quarterly resampling\", 60, \"bar\")\n",
    "\n",
    "#Global Reactive Power\n",
    "sub_plot_resampling(winter_dataset, \"Global_reactive_power\", \"D\", \"Winter Global_reactive_power daily resampling\", color = \"red\")\n",
    "sub_plot_resampling(winter_dataset, \"Global_reactive_power\", \"W\", \"Winter Global_reactive_power monthly resampling\", 80, \"bar\", \"red\")\n",
    "sub_plot_resampling(winter_dataset, \"Global_reactive_power\", \"Q\", \"Winter Global_reactive_power quarterly resampling\", 60, \"bar\", color=\"red\")\n",
    "\n",
    "#Voltage\n",
    "sub_plot_resampling(winter_dataset, \"Voltage\", \"D\", \"Winter Voltage daily resampling\", color=\"green\")\n",
    "sub_plot_resampling(winter_dataset, \"Voltage\", \"W\", \"Winter Voltage monthly resampling\", 80, \"bar\", \"green\")\n",
    "sub_plot_resampling(winter_dataset, \"Voltage\", \"Q\", \"Winter Voltage quarterly resampling\", 60, \"bar\", \"green\")\n",
    "\n",
    "#Global Intensity\n",
    "sub_plot_resampling(winter_dataset, \"Global_intensity\", \"D\", \"Winter Global_intensity daily resampling\", color=\"purple\")\n",
    "sub_plot_resampling(winter_dataset, \"Global_intensity\", \"W\", \"Winter Global_intensity monthly resampling\", 80, \"bar\", \"purple\")\n",
    "sub_plot_resampling(winter_dataset, \"Global_intensity\", \"Q\", \"Winter Global_intensity quarterly resampling\", 60, \"bar\", \"purple\")\n",
    "\n",
    "#Submetering 1\n",
    "sub_plot_resampling(winter_dataset, \"Sub_metering_1\", \"D\", \"Winter Sub_metering_1 daily resampling\", color=\"brown\")\n",
    "sub_plot_resampling(winter_dataset, \"Sub_metering_1\", \"W\", \"Winter Sub_metering_1 monthly resampling\", 80, \"bar\", \"brown\")\n",
    "sub_plot_resampling(winter_dataset, \"Sub_metering_1\", \"Q\", \"Winter Sub_metering_1 quarterly resampling\", 60, \"bar\", \"brown\")\n",
    "\n",
    "#Submetering 2\n",
    "sub_plot_resampling(winter_dataset, \"Sub_metering_2\", \"D\", \"Winter Sub_metering_2 daily resampling\", color=\"orange\")\n",
    "sub_plot_resampling(winter_dataset, \"Sub_metering_2\", \"W\", \"Winter Sub_metering_2 monthly resampling\", 80, \"bar\", \"orange\")\n",
    "sub_plot_resampling(winter_dataset, \"Sub_metering_2\", \"Q\", \"Winter Sub_metering_2 quarterly resampling\", 60, \"bar\", \"orange\")\n",
    "\n",
    "#Submetering 3\n",
    "sub_plot_resampling(winter_dataset, \"Sub_metering_3\", \"D\", \"Winter Sub_metering_3 daily resampling\", color=\"cyan\")\n",
    "sub_plot_resampling(winter_dataset, \"Sub_metering_3\", \"W\", \"Winter Sub_metering_3 monthly resampling\", 80, \"bar\", \"cyan\")\n",
    "sub_plot_resampling(winter_dataset, \"Sub_metering_3\", \"Q\", \"Winter Sub_metering_3 quarterly resampling\", 60, \"bar\", \"cyan\")"
   ]
  },
  {
   "cell_type": "markdown",
   "metadata": {},
   "source": [
    "**Correlation Map**"
   ]
  },
  {
   "cell_type": "code",
   "execution_count": null,
   "metadata": {},
   "outputs": [],
   "source": [
    "winter_dataset.corr().style.background_gradient(cmap = \"PRGn\")"
   ]
  },
  {
   "cell_type": "code",
   "execution_count": null,
   "metadata": {
    "scrolled": true
   },
   "outputs": [],
   "source": [
    "winter_dataset.resample(\"D\").mean().corr().style.background_gradient(cmap = \"PRGn\")"
   ]
  },
  {
   "cell_type": "code",
   "execution_count": null,
   "metadata": {},
   "outputs": [],
   "source": [
    "winter_dataset.resample(\"M\").mean().corr().style.background_gradient(cmap = \"PRGn\")"
   ]
  },
  {
   "cell_type": "code",
   "execution_count": null,
   "metadata": {},
   "outputs": [],
   "source": [
    "winter_dataset.resample(\"Q\").mean().corr().style.background_gradient(cmap = \"PRGn\")"
   ]
  },
  {
   "cell_type": "markdown",
   "metadata": {},
   "source": [
    "**Spring**"
   ]
  },
  {
   "cell_type": "code",
   "execution_count": null,
   "metadata": {},
   "outputs": [],
   "source": [
    "spring_dataset = dataset.loc[dataset['season']==\"spring\"]"
   ]
  },
  {
   "cell_type": "code",
   "execution_count": null,
   "metadata": {},
   "outputs": [],
   "source": [
    "#Global Active power\n",
    "sub_plot_resampling(spring_dataset, \"Global_active_power\", \"D\", \"Spring Global_active_power daily resampling\")\n",
    "sub_plot_resampling(spring_dataset, \"Global_active_power\", \"W\", \"Spring Global_active_power monthly resampling\", 80, \"bar\")\n",
    "sub_plot_resampling(spring_dataset, \"Global_active_power\", \"Q\", \"Spring Global_active_power quarterly resampling\", 60, \"bar\")\n",
    "\n",
    "#Global Reactive Power\n",
    "sub_plot_resampling(spring_dataset, \"Global_reactive_power\", \"D\", \"Spring Global_reactive_power daily resampling\", color = \"red\")\n",
    "sub_plot_resampling(spring_dataset, \"Global_reactive_power\", \"W\", \"Spring Global_reactive_power monthly resampling\", 80, \"bar\", \"red\")\n",
    "sub_plot_resampling(spring_dataset, \"Global_reactive_power\", \"Q\", \"Spring Global_reactive_power quarterly resampling\", 60, \"bar\", color=\"red\")\n",
    "\n",
    "#Voltage\n",
    "sub_plot_resampling(spring_dataset, \"Voltage\", \"D\", \"Spring Voltage daily resampling\", color=\"green\")\n",
    "sub_plot_resampling(spring_dataset, \"Voltage\", \"W\", \"Spring Voltage monthly resampling\", 80, \"bar\", \"green\")\n",
    "sub_plot_resampling(spring_dataset, \"Voltage\", \"Q\", \"Spring Voltage quarterly resampling\", 60, \"bar\", \"green\")\n",
    "\n",
    "#Global Intensity\n",
    "sub_plot_resampling(spring_dataset, \"Global_intensity\", \"D\", \"Spring Global_intensity daily resampling\", color=\"purple\")\n",
    "sub_plot_resampling(spring_dataset, \"Global_intensity\", \"W\", \"Spring Global_intensity monthly resampling\", 80, \"bar\", \"purple\")\n",
    "sub_plot_resampling(spring_dataset, \"Global_intensity\", \"Q\", \"Spring Global_intensity quarterly resampling\", 60, \"bar\", \"purple\")\n",
    "\n",
    "#Submetering 1\n",
    "sub_plot_resampling(spring_dataset, \"Sub_metering_1\", \"D\", \"Spring Sub_metering_1 daily resampling\", color=\"brown\")\n",
    "sub_plot_resampling(spring_dataset, \"Sub_metering_1\", \"W\", \"Spring Sub_metering_1 monthly resampling\", 80, \"bar\", \"brown\")\n",
    "sub_plot_resampling(spring_dataset, \"Sub_metering_1\", \"Q\", \"Spring Sub_metering_1 quarterly resampling\", 60, \"bar\", \"brown\")\n",
    "\n",
    "#Submetering 2\n",
    "sub_plot_resampling(spring_dataset, \"Sub_metering_2\", \"D\", \"Spring Sub_metering_2 daily resampling\", color=\"orange\")\n",
    "sub_plot_resampling(spring_dataset, \"Sub_metering_2\", \"W\", \"Spring Sub_metering_2 monthly resampling\", 80, \"bar\", \"orange\")\n",
    "sub_plot_resampling(spring_dataset, \"Sub_metering_2\", \"Q\", \"Spring Sub_metering_2 quarterly resampling\", 60, \"bar\", \"orange\")\n",
    "\n",
    "#Submetering 3\n",
    "sub_plot_resampling(spring_dataset, \"Sub_metering_3\", \"D\", \"Spring Sub_metering_3 daily resampling\", color=\"cyan\")\n",
    "sub_plot_resampling(spring_dataset, \"Sub_metering_3\", \"W\", \"Spring Sub_metering_3 monthly resampling\", 80, \"bar\", \"cyan\")\n",
    "sub_plot_resampling(spring_dataset, \"Sub_metering_3\", \"Q\", \"Spring Sub_metering_3 quarterly resampling\", 60, \"bar\", \"cyan\")"
   ]
  },
  {
   "cell_type": "markdown",
   "metadata": {},
   "source": [
    "**Correlation Map**"
   ]
  },
  {
   "cell_type": "code",
   "execution_count": null,
   "metadata": {},
   "outputs": [],
   "source": [
    "spring_dataset.corr().style.background_gradient(cmap = \"PRGn\")"
   ]
  },
  {
   "cell_type": "code",
   "execution_count": null,
   "metadata": {},
   "outputs": [],
   "source": [
    "spring_dataset.resample(\"D\").mean().corr().style.background_gradient(cmap = \"PRGn\")"
   ]
  },
  {
   "cell_type": "code",
   "execution_count": null,
   "metadata": {},
   "outputs": [],
   "source": [
    "spring_dataset.resample(\"M\").mean().corr().style.background_gradient(cmap = \"PRGn\")"
   ]
  },
  {
   "cell_type": "code",
   "execution_count": null,
   "metadata": {},
   "outputs": [],
   "source": [
    "spring_dataset.resample(\"Q\").mean().corr().style.background_gradient(cmap = \"PRGn\")"
   ]
  },
  {
   "cell_type": "markdown",
   "metadata": {},
   "source": [
    "**Summer**"
   ]
  },
  {
   "cell_type": "code",
   "execution_count": null,
   "metadata": {},
   "outputs": [],
   "source": [
    "summer_dataset = dataset.loc[dataset['season']==\"summer\"]"
   ]
  },
  {
   "cell_type": "code",
   "execution_count": null,
   "metadata": {},
   "outputs": [],
   "source": [
    "#Global Active power\n",
    "sub_plot_resampling(summer_dataset, \"Global_active_power\", \"D\", \"Summer Global_active_power daily resampling\")\n",
    "sub_plot_resampling(summer_dataset, \"Global_active_power\", \"W\", \"Summer Global_active_power monthly resampling\", 80, \"bar\")\n",
    "sub_plot_resampling(summer_dataset, \"Global_active_power\", \"Q\", \"Summer Global_active_power quarterly resampling\", 60, \"bar\")\n",
    "\n",
    "#Global Reactive Power\n",
    "sub_plot_resampling(summer_dataset, \"Global_reactive_power\", \"D\", \"Summer Global_reactive_power daily resampling\", color = \"red\")\n",
    "sub_plot_resampling(summer_dataset, \"Global_reactive_power\", \"W\", \"Summer Global_reactive_power monthly resampling\", 80, \"bar\", \"red\")\n",
    "sub_plot_resampling(summer_dataset, \"Global_reactive_power\", \"Q\", \"Summer Global_reactive_power quarterly resampling\", 60, \"bar\", color=\"red\")\n",
    "\n",
    "#Voltage\n",
    "sub_plot_resampling(summer_dataset, \"Voltage\", \"D\", \"Summer Voltage daily resampling\", color=\"green\")\n",
    "sub_plot_resampling(summer_dataset, \"Voltage\", \"W\", \"Summer Voltage monthly resampling\", 80, \"bar\", \"green\")\n",
    "sub_plot_resampling(summer_dataset, \"Voltage\", \"Q\", \"Summer Voltage quarterly resampling\", 60, \"bar\", \"green\")\n",
    "\n",
    "#Global Intensity\n",
    "sub_plot_resampling(summer_dataset, \"Global_intensity\", \"D\", \"Summer Global_intensity daily resampling\", color=\"purple\")\n",
    "sub_plot_resampling(summer_dataset, \"Global_intensity\", \"W\", \"Summer Global_intensity monthly resampling\", 80, \"bar\", \"purple\")\n",
    "sub_plot_resampling(summer_dataset, \"Global_intensity\", \"Q\", \"Summer Global_intensity quarterly resampling\", 60, \"bar\", \"purple\")\n",
    "\n",
    "#Submetering 1\n",
    "sub_plot_resampling(summer_dataset, \"Sub_metering_1\", \"D\", \"Summer Sub_metering_1 daily resampling\", color=\"brown\")\n",
    "sub_plot_resampling(summer_dataset, \"Sub_metering_1\", \"W\", \"Summer Sub_metering_1 monthly resampling\", 80, \"bar\", \"brown\")\n",
    "sub_plot_resampling(summer_dataset, \"Sub_metering_1\", \"Q\", \"Summer Sub_metering_1 quarterly resampling\", 60, \"bar\", \"brown\")\n",
    "\n",
    "#Submetering 2\n",
    "sub_plot_resampling(summer_dataset, \"Sub_metering_2\", \"D\", \"Summer Sub_metering_2 daily resampling\", color=\"orange\")\n",
    "sub_plot_resampling(summer_dataset, \"Sub_metering_2\", \"W\", \"Summer Sub_metering_2 monthly resampling\", 80, \"bar\", \"orange\")\n",
    "sub_plot_resampling(summer_dataset, \"Sub_metering_2\", \"Q\", \"Summer Sub_metering_2 quarterly resampling\", 60, \"bar\", \"orange\")\n",
    "\n",
    "#Submetering 3\n",
    "sub_plot_resampling(summer_dataset, \"Sub_metering_3\", \"D\", \"Summer Sub_metering_3 daily resampling\", color=\"cyan\")\n",
    "sub_plot_resampling(summer_dataset, \"Sub_metering_3\", \"W\", \"Summer Sub_metering_3 monthly resampling\", 80, \"bar\", \"cyan\")\n",
    "sub_plot_resampling(summer_dataset, \"Sub_metering_3\", \"Q\", \"Summer Sub_metering_3 quarterly resampling\", 60, \"bar\", \"cyan\")"
   ]
  },
  {
   "cell_type": "markdown",
   "metadata": {},
   "source": [
    "**Correlation Map**"
   ]
  },
  {
   "cell_type": "markdown",
   "metadata": {},
   "source": [
    "No resampling"
   ]
  },
  {
   "cell_type": "code",
   "execution_count": null,
   "metadata": {},
   "outputs": [],
   "source": [
    "summer_dataset.corr().style.background_gradient(cmap = \"PRGn\")"
   ]
  },
  {
   "cell_type": "markdown",
   "metadata": {},
   "source": [
    "Daily resampling"
   ]
  },
  {
   "cell_type": "code",
   "execution_count": null,
   "metadata": {},
   "outputs": [],
   "source": [
    "summer_dataset.resample(\"D\").mean().corr().style.background_gradient(cmap = \"PRGn\")"
   ]
  },
  {
   "cell_type": "markdown",
   "metadata": {},
   "source": [
    "Monthly resampling"
   ]
  },
  {
   "cell_type": "code",
   "execution_count": null,
   "metadata": {},
   "outputs": [],
   "source": [
    "summer_dataset.resample(\"M\").mean().corr().style.background_gradient(cmap = \"PRGn\")"
   ]
  },
  {
   "cell_type": "markdown",
   "metadata": {},
   "source": [
    "Quarterly resampling"
   ]
  },
  {
   "cell_type": "code",
   "execution_count": null,
   "metadata": {},
   "outputs": [],
   "source": [
    "summer_dataset.resample(\"Q\").mean().corr().style.background_gradient(cmap = \"PRGn\")"
   ]
  },
  {
   "cell_type": "markdown",
   "metadata": {},
   "source": [
    "**Autumn**"
   ]
  },
  {
   "cell_type": "code",
   "execution_count": null,
   "metadata": {},
   "outputs": [],
   "source": [
    "autumn_dataset = dataset.loc[dataset['season']==\"autumn\"]"
   ]
  },
  {
   "cell_type": "code",
   "execution_count": null,
   "metadata": {},
   "outputs": [],
   "source": [
    "#Global Active power\n",
    "sub_plot_resampling(autumn_dataset, \"Global_active_power\", \"D\", \"Autumn Global_active_power daily resampling\")\n",
    "sub_plot_resampling(autumn_dataset, \"Global_active_power\", \"W\", \"Autumn Global_active_power monthly resampling\", 80, \"bar\")\n",
    "sub_plot_resampling(autumn_dataset, \"Global_active_power\", \"Q\", \"Autumn Global_active_power quarterly resampling\", 60, \"bar\")\n",
    "\n",
    "#Global Reactive Power\n",
    "sub_plot_resampling(autumn_dataset, \"Global_reactive_power\", \"D\", \"Autumn Global_reactive_power daily resampling\", color = \"red\")\n",
    "sub_plot_resampling(autumn_dataset, \"Global_reactive_power\", \"W\", \"Autumn Global_reactive_power monthly resampling\", 80, \"bar\", \"red\")\n",
    "sub_plot_resampling(autumn_dataset, \"Global_reactive_power\", \"Q\", \"Autumn Global_reactive_power quarterly resampling\", 60, \"bar\", color=\"red\")\n",
    "\n",
    "#Voltage\n",
    "sub_plot_resampling(autumn_dataset, \"Voltage\", \"D\", \"Autumn Voltage daily resampling\", color=\"green\")\n",
    "sub_plot_resampling(autumn_dataset, \"Voltage\", \"W\", \"Autumn Voltage monthly resampling\", 80, \"bar\", \"green\")\n",
    "sub_plot_resampling(autumn_dataset, \"Voltage\", \"Q\", \"Autumn Voltage quarterly resampling\", 60, \"bar\", \"green\")\n",
    "\n",
    "#Global Intensity\n",
    "sub_plot_resampling(autumn_dataset, \"Global_intensity\", \"D\", \"Autumn Global_intensity daily resampling\", color=\"purple\")\n",
    "sub_plot_resampling(autumn_dataset, \"Global_intensity\", \"W\", \"Autumn Global_intensity monthly resampling\", 80, \"bar\", \"purple\")\n",
    "sub_plot_resampling(autumn_dataset, \"Global_intensity\", \"Q\", \"Autumn Global_intensity quarterly resampling\", 60, \"bar\", \"purple\")\n",
    "\n",
    "#Submetering 1\n",
    "sub_plot_resampling(autumn_dataset, \"Sub_metering_1\", \"D\", \"Autumn Sub_metering_1 daily resampling\", color=\"brown\")\n",
    "sub_plot_resampling(autumn_dataset, \"Sub_metering_1\", \"W\", \"Autumn Sub_metering_1 monthly resampling\", 80, \"bar\", \"brown\")\n",
    "sub_plot_resampling(autumn_dataset, \"Sub_metering_1\", \"Q\", \"Autumn Sub_metering_1 quarterly resampling\", 60, \"bar\", \"brown\")\n",
    "\n",
    "#Submetering 2\n",
    "sub_plot_resampling(autumn_dataset, \"Sub_metering_2\", \"D\", \"Autumn Sub_metering_2 daily resampling\", color=\"orange\")\n",
    "sub_plot_resampling(autumn_dataset, \"Sub_metering_2\", \"W\", \"Autumn Sub_metering_2 monthly resampling\", 80, \"bar\", \"orange\")\n",
    "sub_plot_resampling(autumn_dataset, \"Sub_metering_2\", \"Q\", \"Autumn Sub_metering_2 quarterly resampling\", 60, \"bar\", \"orange\")\n",
    "\n",
    "#Submetering 3\n",
    "sub_plot_resampling(autumn_dataset, \"Sub_metering_3\", \"D\", \"Autumn Sub_metering_3 daily resampling\", color=\"cyan\")\n",
    "sub_plot_resampling(autumn_dataset, \"Sub_metering_3\", \"W\", \"Autumn Sub_metering_3 monthly resampling\", 80, \"bar\", \"cyan\")\n",
    "sub_plot_resampling(autumn_dataset, \"Sub_metering_3\", \"Q\", \"Autumn Sub_metering_3 quarterly resampling\", 60, \"bar\", \"cyan\")"
   ]
  },
  {
   "cell_type": "markdown",
   "metadata": {},
   "source": [
    "**Correlation Map**"
   ]
  },
  {
   "cell_type": "markdown",
   "metadata": {},
   "source": [
    "No resampling"
   ]
  },
  {
   "cell_type": "code",
   "execution_count": null,
   "metadata": {},
   "outputs": [],
   "source": [
    "autumn_dataset.corr().style.background_gradient(cmap = \"PRGn\")"
   ]
  },
  {
   "cell_type": "markdown",
   "metadata": {},
   "source": [
    "Daily resampling"
   ]
  },
  {
   "cell_type": "code",
   "execution_count": null,
   "metadata": {},
   "outputs": [],
   "source": [
    "autumn_dataset.resample(\"D\").mean().corr().style.background_gradient(cmap = \"PRGn\")"
   ]
  },
  {
   "cell_type": "markdown",
   "metadata": {},
   "source": [
    "Monthly resampling"
   ]
  },
  {
   "cell_type": "code",
   "execution_count": null,
   "metadata": {},
   "outputs": [],
   "source": [
    "autumn_dataset.resample(\"M\").mean().corr().style.background_gradient(cmap = \"PRGn\")"
   ]
  },
  {
   "cell_type": "markdown",
   "metadata": {},
   "source": [
    "Quarterly resampling"
   ]
  },
  {
   "cell_type": "code",
   "execution_count": null,
   "metadata": {},
   "outputs": [],
   "source": [
    "autumn_dataset.resample(\"Q\").mean().corr().style.background_gradient(cmap = \"PRGn\")"
   ]
  },
  {
   "cell_type": "markdown",
   "metadata": {},
   "source": [
    "# FB Prophet"
   ]
  },
  {
   "cell_type": "code",
   "execution_count": null,
   "metadata": {},
   "outputs": [],
   "source": []
  },
  {
   "cell_type": "code",
   "execution_count": null,
   "metadata": {},
   "outputs": [],
   "source": []
  },
  {
   "cell_type": "code",
   "execution_count": null,
   "metadata": {},
   "outputs": [],
   "source": []
  },
  {
   "cell_type": "code",
   "execution_count": null,
   "metadata": {},
   "outputs": [],
   "source": []
  },
  {
   "cell_type": "code",
   "execution_count": null,
   "metadata": {},
   "outputs": [],
   "source": []
  }
 ],
 "metadata": {
  "kernelspec": {
   "display_name": "Python 3",
   "language": "python",
   "name": "python3"
  },
  "language_info": {
   "codemirror_mode": {
    "name": "ipython",
    "version": 3
   },
   "file_extension": ".py",
   "mimetype": "text/x-python",
   "name": "python",
   "nbconvert_exporter": "python",
   "pygments_lexer": "ipython3",
   "version": "3.6.9"
  }
 },
 "nbformat": 4,
 "nbformat_minor": 2
}
